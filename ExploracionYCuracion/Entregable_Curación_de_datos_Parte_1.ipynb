{
  "nbformat": 4,
  "nbformat_minor": 0,
  "metadata": {
    "colab": {
      "name": "Entregable_Curación_de_datos- Parte 1.ipynb",
      "provenance": [],
      "collapsed_sections": [],
      "include_colab_link": true
    },
    "kernelspec": {
      "display_name": "Python 3",
      "language": "python",
      "name": "python3"
    },
    "language_info": {
      "codemirror_mode": {
        "name": "ipython",
        "version": 3
      },
      "file_extension": ".py",
      "mimetype": "text/x-python",
      "name": "python",
      "nbconvert_exporter": "python",
      "pygments_lexer": "ipython3",
      "version": "3.8.8"
    }
  },
  "cells": [
    {
      "cell_type": "markdown",
      "metadata": {
        "id": "view-in-github",
        "colab_type": "text"
      },
      "source": [
        "<a href=\"https://colab.research.google.com/github/nicocarrion1/DiploDatos_AyV_G5/blob/main/Entregable_Curaci%C3%B3n_de_datos_Parte_1.ipynb\" target=\"_parent\"><img src=\"https://colab.research.google.com/assets/colab-badge.svg\" alt=\"Open In Colab\"/></a>"
      ]
    },
    {
      "cell_type": "markdown",
      "metadata": {
        "id": "zO4bRoxr2Apy"
      },
      "source": [
        "**Diplomatura en Ciencia de Datos, Aprendizaje Automático y sus Aplicaciones**\n",
        "\n",
        "**Exploración y Curación de Datos**\n",
        "\n",
        "*Edición 2021*\n",
        "\n",
        "----\n",
        "\n",
        "# Trabajo práctico entregable - parte 1\n",
        "\n",
        "En esta notebook, vamos a cargar el conjunto de datos de [la compentencia Kaggle](https://www.kaggle.com/dansbecker/melbourne-housing-snapshot) sobre estimación de precios de ventas de propiedades en Melbourne, Australia.\n",
        "\n",
        "Utilizaremos el conjunto de datos reducido producido por [DanB](https://www.kaggle.com/dansbecker). Hemos subido una copia a un servidor de la Universidad Nacional de Córdoba para facilitar su acceso remoto."
      ]
    },
    {
      "cell_type": "markdown",
      "metadata": {
        "id": "pLqS2NW9Gyx6"
      },
      "source": [
        "<font color='orange'>\n",
        "Grupo: Nicolás Carrión, Génesis Núñez Sanchez, Exequiel Santucho, Magdalena Sella\n",
        "</font>"
      ]
    },
    {
      "cell_type": "code",
      "metadata": {
        "id": "4udjxjk1EtVU"
      },
      "source": [
        "import matplotlib.pyplot as plt\n",
        "import numpy as np\n",
        "import pandas as pd\n",
        "\n",
        "import seaborn as sns\n",
        "sns.set_context('talk')"
      ],
      "execution_count": null,
      "outputs": []
    },
    {
      "cell_type": "code",
      "metadata": {
        "colab": {
          "base_uri": "https://localhost:8080/",
          "height": 35
        },
        "id": "3XdIsB8hISis",
        "outputId": "d6775e6f-8b89-4aa0-d60f-6fd08e9b05f0"
      },
      "source": [
        "import plotly as plt\n",
        "plt.__version__\n",
        "# Make sure it's 4.14.3"
      ],
      "execution_count": null,
      "outputs": [
        {
          "output_type": "execute_result",
          "data": {
            "text/plain": [
              "'5.0.0'"
            ]
          },
          "metadata": {
            "tags": []
          },
          "execution_count": 2
        }
      ]
    },
    {
      "cell_type": "code",
      "metadata": {
        "colab": {
          "base_uri": "https://localhost:8080/",
          "height": 608
        },
        "id": "_qeFN3GnEvMk",
        "outputId": "652e5e3a-319d-4bdf-dbed-a6bbf16dc0a2"
      },
      "source": [
        "melb_df = pd.read_csv('https://cs.famaf.unc.edu.ar/~mteruel/datasets/diplodatos/melb_data.csv')\n",
        "\n",
        "mebl_df_respaldo = melb_df\n",
        "melb_df[:10]"
      ],
      "execution_count": null,
      "outputs": [
        {
          "output_type": "execute_result",
          "data": {
            "text/html": [
              "<div>\n",
              "<style scoped>\n",
              "    .dataframe tbody tr th:only-of-type {\n",
              "        vertical-align: middle;\n",
              "    }\n",
              "\n",
              "    .dataframe tbody tr th {\n",
              "        vertical-align: top;\n",
              "    }\n",
              "\n",
              "    .dataframe thead th {\n",
              "        text-align: right;\n",
              "    }\n",
              "</style>\n",
              "<table border=\"1\" class=\"dataframe\">\n",
              "  <thead>\n",
              "    <tr style=\"text-align: right;\">\n",
              "      <th></th>\n",
              "      <th>Suburb</th>\n",
              "      <th>Address</th>\n",
              "      <th>Rooms</th>\n",
              "      <th>Type</th>\n",
              "      <th>Price</th>\n",
              "      <th>Method</th>\n",
              "      <th>SellerG</th>\n",
              "      <th>Date</th>\n",
              "      <th>Distance</th>\n",
              "      <th>Postcode</th>\n",
              "      <th>...</th>\n",
              "      <th>Bathroom</th>\n",
              "      <th>Car</th>\n",
              "      <th>Landsize</th>\n",
              "      <th>BuildingArea</th>\n",
              "      <th>YearBuilt</th>\n",
              "      <th>CouncilArea</th>\n",
              "      <th>Lattitude</th>\n",
              "      <th>Longtitude</th>\n",
              "      <th>Regionname</th>\n",
              "      <th>Propertycount</th>\n",
              "    </tr>\n",
              "  </thead>\n",
              "  <tbody>\n",
              "    <tr>\n",
              "      <th>0</th>\n",
              "      <td>Abbotsford</td>\n",
              "      <td>85 Turner St</td>\n",
              "      <td>2</td>\n",
              "      <td>h</td>\n",
              "      <td>1480000.0</td>\n",
              "      <td>S</td>\n",
              "      <td>Biggin</td>\n",
              "      <td>3/12/2016</td>\n",
              "      <td>2.5</td>\n",
              "      <td>3067.0</td>\n",
              "      <td>...</td>\n",
              "      <td>1.0</td>\n",
              "      <td>1.0</td>\n",
              "      <td>202.0</td>\n",
              "      <td>NaN</td>\n",
              "      <td>NaN</td>\n",
              "      <td>Yarra</td>\n",
              "      <td>-37.7996</td>\n",
              "      <td>144.9984</td>\n",
              "      <td>Northern Metropolitan</td>\n",
              "      <td>4019.0</td>\n",
              "    </tr>\n",
              "    <tr>\n",
              "      <th>1</th>\n",
              "      <td>Abbotsford</td>\n",
              "      <td>25 Bloomburg St</td>\n",
              "      <td>2</td>\n",
              "      <td>h</td>\n",
              "      <td>1035000.0</td>\n",
              "      <td>S</td>\n",
              "      <td>Biggin</td>\n",
              "      <td>4/02/2016</td>\n",
              "      <td>2.5</td>\n",
              "      <td>3067.0</td>\n",
              "      <td>...</td>\n",
              "      <td>1.0</td>\n",
              "      <td>0.0</td>\n",
              "      <td>156.0</td>\n",
              "      <td>79.0</td>\n",
              "      <td>1900.0</td>\n",
              "      <td>Yarra</td>\n",
              "      <td>-37.8079</td>\n",
              "      <td>144.9934</td>\n",
              "      <td>Northern Metropolitan</td>\n",
              "      <td>4019.0</td>\n",
              "    </tr>\n",
              "    <tr>\n",
              "      <th>2</th>\n",
              "      <td>Abbotsford</td>\n",
              "      <td>5 Charles St</td>\n",
              "      <td>3</td>\n",
              "      <td>h</td>\n",
              "      <td>1465000.0</td>\n",
              "      <td>SP</td>\n",
              "      <td>Biggin</td>\n",
              "      <td>4/03/2017</td>\n",
              "      <td>2.5</td>\n",
              "      <td>3067.0</td>\n",
              "      <td>...</td>\n",
              "      <td>2.0</td>\n",
              "      <td>0.0</td>\n",
              "      <td>134.0</td>\n",
              "      <td>150.0</td>\n",
              "      <td>1900.0</td>\n",
              "      <td>Yarra</td>\n",
              "      <td>-37.8093</td>\n",
              "      <td>144.9944</td>\n",
              "      <td>Northern Metropolitan</td>\n",
              "      <td>4019.0</td>\n",
              "    </tr>\n",
              "    <tr>\n",
              "      <th>3</th>\n",
              "      <td>Abbotsford</td>\n",
              "      <td>40 Federation La</td>\n",
              "      <td>3</td>\n",
              "      <td>h</td>\n",
              "      <td>850000.0</td>\n",
              "      <td>PI</td>\n",
              "      <td>Biggin</td>\n",
              "      <td>4/03/2017</td>\n",
              "      <td>2.5</td>\n",
              "      <td>3067.0</td>\n",
              "      <td>...</td>\n",
              "      <td>2.0</td>\n",
              "      <td>1.0</td>\n",
              "      <td>94.0</td>\n",
              "      <td>NaN</td>\n",
              "      <td>NaN</td>\n",
              "      <td>Yarra</td>\n",
              "      <td>-37.7969</td>\n",
              "      <td>144.9969</td>\n",
              "      <td>Northern Metropolitan</td>\n",
              "      <td>4019.0</td>\n",
              "    </tr>\n",
              "    <tr>\n",
              "      <th>4</th>\n",
              "      <td>Abbotsford</td>\n",
              "      <td>55a Park St</td>\n",
              "      <td>4</td>\n",
              "      <td>h</td>\n",
              "      <td>1600000.0</td>\n",
              "      <td>VB</td>\n",
              "      <td>Nelson</td>\n",
              "      <td>4/06/2016</td>\n",
              "      <td>2.5</td>\n",
              "      <td>3067.0</td>\n",
              "      <td>...</td>\n",
              "      <td>1.0</td>\n",
              "      <td>2.0</td>\n",
              "      <td>120.0</td>\n",
              "      <td>142.0</td>\n",
              "      <td>2014.0</td>\n",
              "      <td>Yarra</td>\n",
              "      <td>-37.8072</td>\n",
              "      <td>144.9941</td>\n",
              "      <td>Northern Metropolitan</td>\n",
              "      <td>4019.0</td>\n",
              "    </tr>\n",
              "    <tr>\n",
              "      <th>5</th>\n",
              "      <td>Abbotsford</td>\n",
              "      <td>129 Charles St</td>\n",
              "      <td>2</td>\n",
              "      <td>h</td>\n",
              "      <td>941000.0</td>\n",
              "      <td>S</td>\n",
              "      <td>Jellis</td>\n",
              "      <td>7/05/2016</td>\n",
              "      <td>2.5</td>\n",
              "      <td>3067.0</td>\n",
              "      <td>...</td>\n",
              "      <td>1.0</td>\n",
              "      <td>0.0</td>\n",
              "      <td>181.0</td>\n",
              "      <td>NaN</td>\n",
              "      <td>NaN</td>\n",
              "      <td>Yarra</td>\n",
              "      <td>-37.8041</td>\n",
              "      <td>144.9953</td>\n",
              "      <td>Northern Metropolitan</td>\n",
              "      <td>4019.0</td>\n",
              "    </tr>\n",
              "    <tr>\n",
              "      <th>6</th>\n",
              "      <td>Abbotsford</td>\n",
              "      <td>124 Yarra St</td>\n",
              "      <td>3</td>\n",
              "      <td>h</td>\n",
              "      <td>1876000.0</td>\n",
              "      <td>S</td>\n",
              "      <td>Nelson</td>\n",
              "      <td>7/05/2016</td>\n",
              "      <td>2.5</td>\n",
              "      <td>3067.0</td>\n",
              "      <td>...</td>\n",
              "      <td>2.0</td>\n",
              "      <td>0.0</td>\n",
              "      <td>245.0</td>\n",
              "      <td>210.0</td>\n",
              "      <td>1910.0</td>\n",
              "      <td>Yarra</td>\n",
              "      <td>-37.8024</td>\n",
              "      <td>144.9993</td>\n",
              "      <td>Northern Metropolitan</td>\n",
              "      <td>4019.0</td>\n",
              "    </tr>\n",
              "    <tr>\n",
              "      <th>7</th>\n",
              "      <td>Abbotsford</td>\n",
              "      <td>98 Charles St</td>\n",
              "      <td>2</td>\n",
              "      <td>h</td>\n",
              "      <td>1636000.0</td>\n",
              "      <td>S</td>\n",
              "      <td>Nelson</td>\n",
              "      <td>8/10/2016</td>\n",
              "      <td>2.5</td>\n",
              "      <td>3067.0</td>\n",
              "      <td>...</td>\n",
              "      <td>1.0</td>\n",
              "      <td>2.0</td>\n",
              "      <td>256.0</td>\n",
              "      <td>107.0</td>\n",
              "      <td>1890.0</td>\n",
              "      <td>Yarra</td>\n",
              "      <td>-37.8060</td>\n",
              "      <td>144.9954</td>\n",
              "      <td>Northern Metropolitan</td>\n",
              "      <td>4019.0</td>\n",
              "    </tr>\n",
              "    <tr>\n",
              "      <th>8</th>\n",
              "      <td>Abbotsford</td>\n",
              "      <td>6/241 Nicholson St</td>\n",
              "      <td>1</td>\n",
              "      <td>u</td>\n",
              "      <td>300000.0</td>\n",
              "      <td>S</td>\n",
              "      <td>Biggin</td>\n",
              "      <td>8/10/2016</td>\n",
              "      <td>2.5</td>\n",
              "      <td>3067.0</td>\n",
              "      <td>...</td>\n",
              "      <td>1.0</td>\n",
              "      <td>1.0</td>\n",
              "      <td>0.0</td>\n",
              "      <td>NaN</td>\n",
              "      <td>NaN</td>\n",
              "      <td>Yarra</td>\n",
              "      <td>-37.8008</td>\n",
              "      <td>144.9973</td>\n",
              "      <td>Northern Metropolitan</td>\n",
              "      <td>4019.0</td>\n",
              "    </tr>\n",
              "    <tr>\n",
              "      <th>9</th>\n",
              "      <td>Abbotsford</td>\n",
              "      <td>10 Valiant St</td>\n",
              "      <td>2</td>\n",
              "      <td>h</td>\n",
              "      <td>1097000.0</td>\n",
              "      <td>S</td>\n",
              "      <td>Biggin</td>\n",
              "      <td>8/10/2016</td>\n",
              "      <td>2.5</td>\n",
              "      <td>3067.0</td>\n",
              "      <td>...</td>\n",
              "      <td>1.0</td>\n",
              "      <td>2.0</td>\n",
              "      <td>220.0</td>\n",
              "      <td>75.0</td>\n",
              "      <td>1900.0</td>\n",
              "      <td>Yarra</td>\n",
              "      <td>-37.8010</td>\n",
              "      <td>144.9989</td>\n",
              "      <td>Northern Metropolitan</td>\n",
              "      <td>4019.0</td>\n",
              "    </tr>\n",
              "  </tbody>\n",
              "</table>\n",
              "<p>10 rows × 21 columns</p>\n",
              "</div>"
            ],
            "text/plain": [
              "       Suburb             Address  Rooms Type      Price Method SellerG  \\\n",
              "0  Abbotsford        85 Turner St      2    h  1480000.0      S  Biggin   \n",
              "1  Abbotsford     25 Bloomburg St      2    h  1035000.0      S  Biggin   \n",
              "2  Abbotsford        5 Charles St      3    h  1465000.0     SP  Biggin   \n",
              "3  Abbotsford    40 Federation La      3    h   850000.0     PI  Biggin   \n",
              "4  Abbotsford         55a Park St      4    h  1600000.0     VB  Nelson   \n",
              "5  Abbotsford      129 Charles St      2    h   941000.0      S  Jellis   \n",
              "6  Abbotsford        124 Yarra St      3    h  1876000.0      S  Nelson   \n",
              "7  Abbotsford       98 Charles St      2    h  1636000.0      S  Nelson   \n",
              "8  Abbotsford  6/241 Nicholson St      1    u   300000.0      S  Biggin   \n",
              "9  Abbotsford       10 Valiant St      2    h  1097000.0      S  Biggin   \n",
              "\n",
              "        Date  Distance  Postcode  ...  Bathroom  Car  Landsize  BuildingArea  \\\n",
              "0  3/12/2016       2.5    3067.0  ...       1.0  1.0     202.0           NaN   \n",
              "1  4/02/2016       2.5    3067.0  ...       1.0  0.0     156.0          79.0   \n",
              "2  4/03/2017       2.5    3067.0  ...       2.0  0.0     134.0         150.0   \n",
              "3  4/03/2017       2.5    3067.0  ...       2.0  1.0      94.0           NaN   \n",
              "4  4/06/2016       2.5    3067.0  ...       1.0  2.0     120.0         142.0   \n",
              "5  7/05/2016       2.5    3067.0  ...       1.0  0.0     181.0           NaN   \n",
              "6  7/05/2016       2.5    3067.0  ...       2.0  0.0     245.0         210.0   \n",
              "7  8/10/2016       2.5    3067.0  ...       1.0  2.0     256.0         107.0   \n",
              "8  8/10/2016       2.5    3067.0  ...       1.0  1.0       0.0           NaN   \n",
              "9  8/10/2016       2.5    3067.0  ...       1.0  2.0     220.0          75.0   \n",
              "\n",
              "   YearBuilt  CouncilArea Lattitude  Longtitude             Regionname  \\\n",
              "0        NaN        Yarra  -37.7996    144.9984  Northern Metropolitan   \n",
              "1     1900.0        Yarra  -37.8079    144.9934  Northern Metropolitan   \n",
              "2     1900.0        Yarra  -37.8093    144.9944  Northern Metropolitan   \n",
              "3        NaN        Yarra  -37.7969    144.9969  Northern Metropolitan   \n",
              "4     2014.0        Yarra  -37.8072    144.9941  Northern Metropolitan   \n",
              "5        NaN        Yarra  -37.8041    144.9953  Northern Metropolitan   \n",
              "6     1910.0        Yarra  -37.8024    144.9993  Northern Metropolitan   \n",
              "7     1890.0        Yarra  -37.8060    144.9954  Northern Metropolitan   \n",
              "8        NaN        Yarra  -37.8008    144.9973  Northern Metropolitan   \n",
              "9     1900.0        Yarra  -37.8010    144.9989  Northern Metropolitan   \n",
              "\n",
              "  Propertycount  \n",
              "0        4019.0  \n",
              "1        4019.0  \n",
              "2        4019.0  \n",
              "3        4019.0  \n",
              "4        4019.0  \n",
              "5        4019.0  \n",
              "6        4019.0  \n",
              "7        4019.0  \n",
              "8        4019.0  \n",
              "9        4019.0  \n",
              "\n",
              "[10 rows x 21 columns]"
            ]
          },
          "metadata": {
            "tags": []
          },
          "execution_count": 3
        }
      ]
    },
    {
      "cell_type": "markdown",
      "metadata": {
        "id": "fzjI3e9CkNu6"
      },
      "source": [
        "## Ejercicio 1: \n",
        "1. Eliminar los valores extremos que no sean relevantes para la predicción de valores de las propiedades."
      ]
    },
    {
      "cell_type": "code",
      "metadata": {
        "colab": {
          "base_uri": "https://localhost:8080/",
          "height": 317
        },
        "id": "CMWHO3iMDV-6",
        "outputId": "7d903d13-074e-42f1-fb32-abd8b36d69d3"
      },
      "source": [
        "print('Cantidad de registros: ', len(melb_df))\n",
        "melb_df.describe().round(1)"
      ],
      "execution_count": null,
      "outputs": [
        {
          "output_type": "stream",
          "text": [
            "Cantidad de registros:  13580\n"
          ],
          "name": "stdout"
        },
        {
          "output_type": "execute_result",
          "data": {
            "text/html": [
              "<div>\n",
              "<style scoped>\n",
              "    .dataframe tbody tr th:only-of-type {\n",
              "        vertical-align: middle;\n",
              "    }\n",
              "\n",
              "    .dataframe tbody tr th {\n",
              "        vertical-align: top;\n",
              "    }\n",
              "\n",
              "    .dataframe thead th {\n",
              "        text-align: right;\n",
              "    }\n",
              "</style>\n",
              "<table border=\"1\" class=\"dataframe\">\n",
              "  <thead>\n",
              "    <tr style=\"text-align: right;\">\n",
              "      <th></th>\n",
              "      <th>Rooms</th>\n",
              "      <th>Price</th>\n",
              "      <th>Distance</th>\n",
              "      <th>Postcode</th>\n",
              "      <th>Bedroom2</th>\n",
              "      <th>Bathroom</th>\n",
              "      <th>Car</th>\n",
              "      <th>Landsize</th>\n",
              "      <th>BuildingArea</th>\n",
              "      <th>YearBuilt</th>\n",
              "      <th>Lattitude</th>\n",
              "      <th>Longtitude</th>\n",
              "      <th>Propertycount</th>\n",
              "    </tr>\n",
              "  </thead>\n",
              "  <tbody>\n",
              "    <tr>\n",
              "      <th>count</th>\n",
              "      <td>13580.0</td>\n",
              "      <td>13580.0</td>\n",
              "      <td>13580.0</td>\n",
              "      <td>13580.0</td>\n",
              "      <td>13580.0</td>\n",
              "      <td>13580.0</td>\n",
              "      <td>13518.0</td>\n",
              "      <td>13580.0</td>\n",
              "      <td>7130.0</td>\n",
              "      <td>8205.0</td>\n",
              "      <td>13580.0</td>\n",
              "      <td>13580.0</td>\n",
              "      <td>13580.0</td>\n",
              "    </tr>\n",
              "    <tr>\n",
              "      <th>mean</th>\n",
              "      <td>2.9</td>\n",
              "      <td>1075684.1</td>\n",
              "      <td>10.1</td>\n",
              "      <td>3105.3</td>\n",
              "      <td>2.9</td>\n",
              "      <td>1.5</td>\n",
              "      <td>1.6</td>\n",
              "      <td>558.4</td>\n",
              "      <td>152.0</td>\n",
              "      <td>1964.7</td>\n",
              "      <td>-37.8</td>\n",
              "      <td>145.0</td>\n",
              "      <td>7454.4</td>\n",
              "    </tr>\n",
              "    <tr>\n",
              "      <th>std</th>\n",
              "      <td>1.0</td>\n",
              "      <td>639310.7</td>\n",
              "      <td>5.9</td>\n",
              "      <td>90.7</td>\n",
              "      <td>1.0</td>\n",
              "      <td>0.7</td>\n",
              "      <td>1.0</td>\n",
              "      <td>3990.7</td>\n",
              "      <td>541.0</td>\n",
              "      <td>37.3</td>\n",
              "      <td>0.1</td>\n",
              "      <td>0.1</td>\n",
              "      <td>4378.6</td>\n",
              "    </tr>\n",
              "    <tr>\n",
              "      <th>min</th>\n",
              "      <td>1.0</td>\n",
              "      <td>85000.0</td>\n",
              "      <td>0.0</td>\n",
              "      <td>3000.0</td>\n",
              "      <td>0.0</td>\n",
              "      <td>0.0</td>\n",
              "      <td>0.0</td>\n",
              "      <td>0.0</td>\n",
              "      <td>0.0</td>\n",
              "      <td>1196.0</td>\n",
              "      <td>-38.2</td>\n",
              "      <td>144.4</td>\n",
              "      <td>249.0</td>\n",
              "    </tr>\n",
              "    <tr>\n",
              "      <th>25%</th>\n",
              "      <td>2.0</td>\n",
              "      <td>650000.0</td>\n",
              "      <td>6.1</td>\n",
              "      <td>3044.0</td>\n",
              "      <td>2.0</td>\n",
              "      <td>1.0</td>\n",
              "      <td>1.0</td>\n",
              "      <td>177.0</td>\n",
              "      <td>93.0</td>\n",
              "      <td>1940.0</td>\n",
              "      <td>-37.9</td>\n",
              "      <td>144.9</td>\n",
              "      <td>4380.0</td>\n",
              "    </tr>\n",
              "    <tr>\n",
              "      <th>50%</th>\n",
              "      <td>3.0</td>\n",
              "      <td>903000.0</td>\n",
              "      <td>9.2</td>\n",
              "      <td>3084.0</td>\n",
              "      <td>3.0</td>\n",
              "      <td>1.0</td>\n",
              "      <td>2.0</td>\n",
              "      <td>440.0</td>\n",
              "      <td>126.0</td>\n",
              "      <td>1970.0</td>\n",
              "      <td>-37.8</td>\n",
              "      <td>145.0</td>\n",
              "      <td>6555.0</td>\n",
              "    </tr>\n",
              "    <tr>\n",
              "      <th>75%</th>\n",
              "      <td>3.0</td>\n",
              "      <td>1330000.0</td>\n",
              "      <td>13.0</td>\n",
              "      <td>3148.0</td>\n",
              "      <td>3.0</td>\n",
              "      <td>2.0</td>\n",
              "      <td>2.0</td>\n",
              "      <td>651.0</td>\n",
              "      <td>174.0</td>\n",
              "      <td>1999.0</td>\n",
              "      <td>-37.8</td>\n",
              "      <td>145.1</td>\n",
              "      <td>10331.0</td>\n",
              "    </tr>\n",
              "    <tr>\n",
              "      <th>max</th>\n",
              "      <td>10.0</td>\n",
              "      <td>9000000.0</td>\n",
              "      <td>48.1</td>\n",
              "      <td>3977.0</td>\n",
              "      <td>20.0</td>\n",
              "      <td>8.0</td>\n",
              "      <td>10.0</td>\n",
              "      <td>433014.0</td>\n",
              "      <td>44515.0</td>\n",
              "      <td>2018.0</td>\n",
              "      <td>-37.4</td>\n",
              "      <td>145.5</td>\n",
              "      <td>21650.0</td>\n",
              "    </tr>\n",
              "  </tbody>\n",
              "</table>\n",
              "</div>"
            ],
            "text/plain": [
              "         Rooms      Price  Distance  Postcode  Bedroom2  Bathroom      Car  \\\n",
              "count  13580.0    13580.0   13580.0   13580.0   13580.0   13580.0  13518.0   \n",
              "mean       2.9  1075684.1      10.1    3105.3       2.9       1.5      1.6   \n",
              "std        1.0   639310.7       5.9      90.7       1.0       0.7      1.0   \n",
              "min        1.0    85000.0       0.0    3000.0       0.0       0.0      0.0   \n",
              "25%        2.0   650000.0       6.1    3044.0       2.0       1.0      1.0   \n",
              "50%        3.0   903000.0       9.2    3084.0       3.0       1.0      2.0   \n",
              "75%        3.0  1330000.0      13.0    3148.0       3.0       2.0      2.0   \n",
              "max       10.0  9000000.0      48.1    3977.0      20.0       8.0     10.0   \n",
              "\n",
              "       Landsize  BuildingArea  YearBuilt  Lattitude  Longtitude  Propertycount  \n",
              "count   13580.0        7130.0     8205.0    13580.0     13580.0        13580.0  \n",
              "mean      558.4         152.0     1964.7      -37.8       145.0         7454.4  \n",
              "std      3990.7         541.0       37.3        0.1         0.1         4378.6  \n",
              "min         0.0           0.0     1196.0      -38.2       144.4          249.0  \n",
              "25%       177.0          93.0     1940.0      -37.9       144.9         4380.0  \n",
              "50%       440.0         126.0     1970.0      -37.8       145.0         6555.0  \n",
              "75%       651.0         174.0     1999.0      -37.8       145.1        10331.0  \n",
              "max    433014.0       44515.0     2018.0      -37.4       145.5        21650.0  "
            ]
          },
          "metadata": {
            "tags": []
          },
          "execution_count": 4
        }
      ]
    },
    {
      "cell_type": "markdown",
      "metadata": {
        "id": "VADfNPibDV-7"
      },
      "source": [
        "Como se puede observar, el dataframe se refiere a las características de propiedades que fueron vendidas y cuenta con 13.580 filas. A continuación, se presenta la información de cada columna del dataframe a los fines de determinar los límites que se impondrán luego sobre las variables numéricas."
      ]
    },
    {
      "cell_type": "code",
      "metadata": {
        "colab": {
          "base_uri": "https://localhost:8080/"
        },
        "id": "cjtlGmGMDV-7",
        "outputId": "c11d6082-d0c3-47f1-8882-6b94e132632b"
      },
      "source": [
        "melb_df.info()"
      ],
      "execution_count": null,
      "outputs": [
        {
          "output_type": "stream",
          "text": [
            "<class 'pandas.core.frame.DataFrame'>\n",
            "RangeIndex: 13580 entries, 0 to 13579\n",
            "Data columns (total 21 columns):\n",
            " #   Column         Non-Null Count  Dtype  \n",
            "---  ------         --------------  -----  \n",
            " 0   Suburb         13580 non-null  object \n",
            " 1   Address        13580 non-null  object \n",
            " 2   Rooms          13580 non-null  int64  \n",
            " 3   Type           13580 non-null  object \n",
            " 4   Price          13580 non-null  float64\n",
            " 5   Method         13580 non-null  object \n",
            " 6   SellerG        13580 non-null  object \n",
            " 7   Date           13580 non-null  object \n",
            " 8   Distance       13580 non-null  float64\n",
            " 9   Postcode       13580 non-null  float64\n",
            " 10  Bedroom2       13580 non-null  float64\n",
            " 11  Bathroom       13580 non-null  float64\n",
            " 12  Car            13518 non-null  float64\n",
            " 13  Landsize       13580 non-null  float64\n",
            " 14  BuildingArea   7130 non-null   float64\n",
            " 15  YearBuilt      8205 non-null   float64\n",
            " 16  CouncilArea    12211 non-null  object \n",
            " 17  Lattitude      13580 non-null  float64\n",
            " 18  Longtitude     13580 non-null  float64\n",
            " 19  Regionname     13580 non-null  object \n",
            " 20  Propertycount  13580 non-null  float64\n",
            "dtypes: float64(12), int64(1), object(8)\n",
            "memory usage: 2.2+ MB\n"
          ],
          "name": "stdout"
        }
      ]
    },
    {
      "cell_type": "markdown",
      "metadata": {
        "id": "5KL8Nkx9DV-8"
      },
      "source": [
        "La variable \"Rooms\" se limitará a 8 rooms, dado que es el valor más alto que se presenta razonable. Considerando que son \"espacios\" de la propiedad y no \"habitaciones\", se entiende que no es un outlier. También se controla que el número de habitaciones sea mayor a 0."
      ]
    },
    {
      "cell_type": "code",
      "metadata": {
        "id": "RCWnViAK32Ii",
        "outputId": "20557b3a-03c0-42de-9735-e5ec7e646b02"
      },
      "source": [
        "sns.countplot(data = melb_df, x='Rooms',hue='Type')"
      ],
      "execution_count": null,
      "outputs": [
        {
          "output_type": "execute_result",
          "data": {
            "text/plain": [
              "<AxesSubplot:xlabel='Rooms', ylabel='count'>"
            ]
          },
          "metadata": {
            "tags": []
          },
          "execution_count": 6
        },
        {
          "output_type": "display_data",
          "data": {
            "image/png": "[encoded data removed]",
            "text/plain": [
              "<Figure size 432x288 with 1 Axes>"
            ]
          },
          "metadata": {
            "tags": [],
            "needs_background": "light"
          }
        }
      ]
    },
    {
      "cell_type": "code",
      "metadata": {
        "colab": {
          "base_uri": "https://localhost:8080/"
        },
        "id": "stoedDeVDV-9",
        "outputId": "24689899-bb27-4188-f3f5-d3117f0ff0f0"
      },
      "source": [
        "melb_df['Rooms'].value_counts()"
      ],
      "execution_count": null,
      "outputs": [
        {
          "output_type": "execute_result",
          "data": {
            "text/plain": [
              "3     5881\n",
              "2     3648\n",
              "4     2688\n",
              "1      681\n",
              "5      596\n",
              "6       67\n",
              "7       10\n",
              "8        8\n",
              "10       1\n",
              "Name: Rooms, dtype: int64"
            ]
          },
          "metadata": {
            "tags": []
          },
          "execution_count": 7
        }
      ]
    },
    {
      "cell_type": "markdown",
      "metadata": {
        "id": "VPjzk2dfDV--"
      },
      "source": [
        "La variable \"Bedroom2\" debería limitarse a 8 como máximo, para que no supere el valor de \"Rooms\". Sin embargo, como se muestra a continuación, las variables \"Rooms\" y \"Bedroom2\" se encuentran altamente correlacionadas, por lo que esta última será descartada."
      ]
    },
    {
      "cell_type": "code",
      "metadata": {
        "colab": {
          "base_uri": "https://localhost:8080/"
        },
        "id": "UNnUQseNDV--",
        "outputId": "10ea0196-b546-437e-9c1c-86faf62925ce"
      },
      "source": [
        "melb_df['Bedroom2'].value_counts()"
      ],
      "execution_count": null,
      "outputs": [
        {
          "output_type": "execute_result",
          "data": {
            "text/plain": [
              "3.0     5896\n",
              "2.0     3737\n",
              "4.0     2601\n",
              "1.0      691\n",
              "5.0      556\n",
              "6.0       63\n",
              "0.0       16\n",
              "7.0       10\n",
              "8.0        5\n",
              "9.0        3\n",
              "20.0       1\n",
              "10.0       1\n",
              "Name: Bedroom2, dtype: int64"
            ]
          },
          "metadata": {
            "tags": []
          },
          "execution_count": 8
        }
      ]
    },
    {
      "cell_type": "code",
      "metadata": {
        "colab": {
          "base_uri": "https://localhost:8080/",
          "height": 112
        },
        "id": "VnAZh5uODV--",
        "outputId": "8f6f4627-ee24-491c-c1c5-ad43af7597e3"
      },
      "source": [
        "melb_df[['Bedroom2','Rooms' ]].corr()"
      ],
      "execution_count": null,
      "outputs": [
        {
          "output_type": "execute_result",
          "data": {
            "text/html": [
              "<div>\n",
              "<style scoped>\n",
              "    .dataframe tbody tr th:only-of-type {\n",
              "        vertical-align: middle;\n",
              "    }\n",
              "\n",
              "    .dataframe tbody tr th {\n",
              "        vertical-align: top;\n",
              "    }\n",
              "\n",
              "    .dataframe thead th {\n",
              "        text-align: right;\n",
              "    }\n",
              "</style>\n",
              "<table border=\"1\" class=\"dataframe\">\n",
              "  <thead>\n",
              "    <tr style=\"text-align: right;\">\n",
              "      <th></th>\n",
              "      <th>Bedroom2</th>\n",
              "      <th>Rooms</th>\n",
              "    </tr>\n",
              "  </thead>\n",
              "  <tbody>\n",
              "    <tr>\n",
              "      <th>Bedroom2</th>\n",
              "      <td>1.00000</td>\n",
              "      <td>0.94419</td>\n",
              "    </tr>\n",
              "    <tr>\n",
              "      <th>Rooms</th>\n",
              "      <td>0.94419</td>\n",
              "      <td>1.00000</td>\n",
              "    </tr>\n",
              "  </tbody>\n",
              "</table>\n",
              "</div>"
            ],
            "text/plain": [
              "          Bedroom2    Rooms\n",
              "Bedroom2   1.00000  0.94419\n",
              "Rooms      0.94419  1.00000"
            ]
          },
          "metadata": {
            "tags": []
          },
          "execution_count": 9
        }
      ]
    },
    {
      "cell_type": "markdown",
      "metadata": {
        "id": "ViEM5FhTDV-_"
      },
      "source": [
        "Considerando que la variable \"Rooms\" fue limitada a 8, la cantidad de baños debería ser menor a este valor. Por esto, la variable fue limitada a 5 o menos, ya que no parece razonable que haya una proporción tan alta de baños en una casa. En caso de que baños = 0, se imputa 1."
      ]
    },
    {
      "cell_type": "code",
      "metadata": {
        "colab": {
          "base_uri": "https://localhost:8080/"
        },
        "id": "c-n88b8_DV-_",
        "outputId": "350d1366-2c42-497f-9a55-5f293d7a7331"
      },
      "source": [
        "melb_df['Bathroom'].value_counts()"
      ],
      "execution_count": null,
      "outputs": [
        {
          "output_type": "execute_result",
          "data": {
            "text/plain": [
              "1.0    7512\n",
              "2.0    4974\n",
              "3.0     917\n",
              "4.0     106\n",
              "0.0      34\n",
              "5.0      28\n",
              "6.0       5\n",
              "8.0       2\n",
              "7.0       2\n",
              "Name: Bathroom, dtype: int64"
            ]
          },
          "metadata": {
            "tags": []
          },
          "execution_count": 10
        }
      ]
    },
    {
      "cell_type": "markdown",
      "metadata": {
        "id": "TDD3_jOQDV-_"
      },
      "source": [
        "La variable \"Car\", que se refiere a la cantidad de cocheras con las que cuenta la propiedad, son limitadas a 6. La frecuencia de esta variabla para una cantidad mayor a 6 es demasiado baja en comparación con la cantidad total de datos, por lo éstos serán tratados como outliers."
      ]
    },
    {
      "cell_type": "code",
      "metadata": {
        "colab": {
          "base_uri": "https://localhost:8080/"
        },
        "id": "uDVeYB4FDV-_",
        "outputId": "2aee7753-5163-4713-88a5-bd3df1f809b4"
      },
      "source": [
        "melb_df['Car'].value_counts()"
      ],
      "execution_count": null,
      "outputs": [
        {
          "output_type": "execute_result",
          "data": {
            "text/plain": [
              "2.0     5591\n",
              "1.0     5509\n",
              "0.0     1026\n",
              "3.0      748\n",
              "4.0      506\n",
              "5.0       63\n",
              "6.0       54\n",
              "8.0        9\n",
              "7.0        8\n",
              "10.0       3\n",
              "9.0        1\n",
              "Name: Car, dtype: int64"
            ]
          },
          "metadata": {
            "tags": []
          },
          "execution_count": 11
        }
      ]
    },
    {
      "cell_type": "markdown",
      "metadata": {
        "id": "cPxo6T12DV_A"
      },
      "source": [
        "Como se muestra a continuación, si bien el total dataframe cuenta con 13.580 observaciones, solo hay 7.113 filas que poseen la variable \"BuildingArea\" con un valor mayor a 0. Se entiende que si se trata de propiedades habitables, el hecho de que los metros construidos no existan (iguales a 0), es un error. Por este motivo, luego se imputarán valores sobre esta variable (en el Entregable-Parte 2)."
      ]
    },
    {
      "cell_type": "code",
      "metadata": {
        "id": "00ouL-Hw32Iu",
        "outputId": "baa19f57-bff0-4495-dd21-2bd3762e7497"
      },
      "source": [
        "sns.histplot(data=melb_df, x='BuildingArea').set_xlim(0,2000)"
      ],
      "execution_count": null,
      "outputs": [
        {
          "output_type": "execute_result",
          "data": {
            "text/plain": [
              "(0.0, 2000.0)"
            ]
          },
          "metadata": {
            "tags": []
          },
          "execution_count": 12
        },
        {
          "output_type": "display_data",
          "data": {
            "image/png": "[encoded data removed]",
            "text/plain": [
              "<Figure size 432x288 with 1 Axes>"
            ]
          },
          "metadata": {
            "tags": [],
            "needs_background": "light"
          }
        }
      ]
    },
    {
      "cell_type": "code",
      "metadata": {
        "colab": {
          "base_uri": "https://localhost:8080/"
        },
        "id": "u0iERWeBieNv",
        "outputId": "2d362d98-5aae-489b-ad2d-3a39cbb14b67"
      },
      "source": [
        "len(melb_df[melb_df['BuildingArea']>0])"
      ],
      "execution_count": null,
      "outputs": [
        {
          "output_type": "execute_result",
          "data": {
            "text/plain": [
              "7113"
            ]
          },
          "metadata": {
            "tags": []
          },
          "execution_count": 13
        }
      ]
    },
    {
      "cell_type": "markdown",
      "metadata": {
        "id": "7RLoQozODV_A"
      },
      "source": [
        "Por último, se dejará afuera el outlier \"1196\" de la variable \"YearBuilt\", entendiendo que se trata de un error por tener cerca de 825 años de antigüedad."
      ]
    },
    {
      "cell_type": "code",
      "metadata": {
        "colab": {
          "base_uri": "https://localhost:8080/"
        },
        "id": "bHvwF4CjDV_B",
        "outputId": "afde3a7b-32c7-4336-bd81-25e5ec296c88"
      },
      "source": [
        "melb_df['YearBuilt'].describe()"
      ],
      "execution_count": null,
      "outputs": [
        {
          "output_type": "execute_result",
          "data": {
            "text/plain": [
              "count    8205.000000\n",
              "mean     1964.684217\n",
              "std        37.273762\n",
              "min      1196.000000\n",
              "25%      1940.000000\n",
              "50%      1970.000000\n",
              "75%      1999.000000\n",
              "max      2018.000000\n",
              "Name: YearBuilt, dtype: float64"
            ]
          },
          "metadata": {
            "tags": []
          },
          "execution_count": 14
        }
      ]
    },
    {
      "cell_type": "code",
      "metadata": {
        "id": "RkD_Zwq-32Iy",
        "outputId": "45ed6ff3-001c-40bb-8b0c-21c069667d18"
      },
      "source": [
        "melb_df['Landsize'].describe()"
      ],
      "execution_count": null,
      "outputs": [
        {
          "output_type": "execute_result",
          "data": {
            "text/plain": [
              "count     13580.000000\n",
              "mean        558.416127\n",
              "std        3990.669241\n",
              "min           0.000000\n",
              "25%         177.000000\n",
              "50%         440.000000\n",
              "75%         651.000000\n",
              "max      433014.000000\n",
              "Name: Landsize, dtype: float64"
            ]
          },
          "metadata": {
            "tags": []
          },
          "execution_count": 15
        }
      ]
    },
    {
      "cell_type": "code",
      "metadata": {
        "id": "foZ1r7hY32Iz",
        "outputId": "60f687b9-9c70-4be6-c4a6-ab5a7e781457"
      },
      "source": [
        "sns.histplot(data=melb_df, x='Landsize').set_xlim(0,2000)"
      ],
      "execution_count": null,
      "outputs": [
        {
          "output_type": "execute_result",
          "data": {
            "text/plain": [
              "(0.0, 2000.0)"
            ]
          },
          "metadata": {
            "tags": []
          },
          "execution_count": 16
        },
        {
          "output_type": "display_data",
          "data": {
            "image/png": "[encoded data removed]",
            "text/plain": [
              "<Figure size 432x288 with 1 Axes>"
            ]
          },
          "metadata": {
            "tags": [],
            "needs_background": "light"
          }
        }
      ]
    },
    {
      "cell_type": "markdown",
      "metadata": {
        "id": "1NCnBul132Iz"
      },
      "source": [
        "Ya que más del 99% de las observaciones cuentan con un Landsize menor a 1500, se tomará este como límite."
      ]
    },
    {
      "cell_type": "code",
      "metadata": {
        "colab": {
          "base_uri": "https://localhost:8080/",
          "height": 175
        },
        "id": "SzWJXTqtlkS6",
        "outputId": "58e9b36f-e5e9-48b0-da3c-09bdfb97fc6a"
      },
      "source": [
        "# Aplicación de límites sobre las variables:\n",
        "\n",
        "# Eliminación de columna \"Bedroom2\"\n",
        "melb_df.drop(columns=['Bedroom2'], inplace=True)\n",
        "\n",
        "#Observaciones con 0 baños\n",
        "melb_df['Bathroom'].replace({0: 1})\n",
        "\n",
        "# 1) Limitación de ambientes\n",
        "lim_rooms = 8\n",
        "lim_bathroom = 5\n",
        "lim_car = 6\n",
        "lim_build = 500\n",
        "lim_landsize = 1500\n",
        "\n",
        "\n",
        "melb_df = melb_df[(melb_df['Rooms']>0) & (melb_df['Rooms']<=lim_rooms)]\n",
        "melb_df = melb_df[(melb_df['Bathroom']>0) & (melb_df['Bathroom']<=lim_bathroom)]\n",
        "melb_df = melb_df[melb_df['Car']<=lim_car]\n",
        "melb_df = melb_df[(melb_df['Rooms']>0) & (melb_df['Rooms']<=lim_rooms)]\n",
        "melb_df = melb_df[(melb_df['BuildingArea']<lim_build)|(melb_df['BuildingArea'].isnull())]\n",
        "melb_df = melb_df[(melb_df['Landsize']<lim_landsize)|(melb_df['Landsize'].isnull())]\n",
        "\n",
        "\n",
        "# 2) # Control de que número de habitaciones sea mayor o igual a baños\n",
        "melb_df = melb_df[melb_df['Rooms'] >= melb_df['Bathroom']]\n",
        "\n",
        "# 3) # Eliminación de año 1196 (se elimina puntualmente porque si se coloca la\n",
        "# instrucción \">1196\" también se eliminan valores NaN, perdiendo mucha información)\n",
        "melb_df = melb_df[melb_df['YearBuilt'] != 1196.0]\n",
        "melb_df.describe().round(2)"
      ],
      "execution_count": null,
      "outputs": [
        {
          "output_type": "execute_result",
          "data": {
            "text/html": [
              "<div>\n",
              "<style scoped>\n",
              "    .dataframe tbody tr th:only-of-type {\n",
              "        vertical-align: middle;\n",
              "    }\n",
              "\n",
              "    .dataframe tbody tr th {\n",
              "        vertical-align: top;\n",
              "    }\n",
              "\n",
              "    .dataframe thead th {\n",
              "        text-align: right;\n",
              "    }\n",
              "</style>\n",
              "<table border=\"1\" class=\"dataframe\">\n",
              "  <thead>\n",
              "    <tr style=\"text-align: right;\">\n",
              "      <th></th>\n",
              "      <th>Rooms</th>\n",
              "      <th>Price</th>\n",
              "      <th>Distance</th>\n",
              "      <th>Postcode</th>\n",
              "      <th>Bathroom</th>\n",
              "      <th>Car</th>\n",
              "      <th>Landsize</th>\n",
              "      <th>BuildingArea</th>\n",
              "      <th>YearBuilt</th>\n",
              "      <th>Lattitude</th>\n",
              "      <th>Longtitude</th>\n",
              "      <th>Propertycount</th>\n",
              "    </tr>\n",
              "  </thead>\n",
              "  <tbody>\n",
              "    <tr>\n",
              "      <th>count</th>\n",
              "      <td>13047.00</td>\n",
              "      <td>13047.00</td>\n",
              "      <td>13047.00</td>\n",
              "      <td>13047.00</td>\n",
              "      <td>13047.00</td>\n",
              "      <td>13047.00</td>\n",
              "      <td>13047.00</td>\n",
              "      <td>6861.00</td>\n",
              "      <td>7899.00</td>\n",
              "      <td>13047.00</td>\n",
              "      <td>13047.00</td>\n",
              "      <td>13047.00</td>\n",
              "    </tr>\n",
              "    <tr>\n",
              "      <th>mean</th>\n",
              "      <td>2.95</td>\n",
              "      <td>1075168.60</td>\n",
              "      <td>10.19</td>\n",
              "      <td>3104.59</td>\n",
              "      <td>1.53</td>\n",
              "      <td>1.60</td>\n",
              "      <td>417.07</td>\n",
              "      <td>140.06</td>\n",
              "      <td>1964.51</td>\n",
              "      <td>-37.81</td>\n",
              "      <td>144.99</td>\n",
              "      <td>7445.87</td>\n",
              "    </tr>\n",
              "    <tr>\n",
              "      <th>std</th>\n",
              "      <td>0.94</td>\n",
              "      <td>626588.44</td>\n",
              "      <td>5.76</td>\n",
              "      <td>89.49</td>\n",
              "      <td>0.67</td>\n",
              "      <td>0.92</td>\n",
              "      <td>291.98</td>\n",
              "      <td>70.96</td>\n",
              "      <td>36.08</td>\n",
              "      <td>0.08</td>\n",
              "      <td>0.10</td>\n",
              "      <td>4382.42</td>\n",
              "    </tr>\n",
              "    <tr>\n",
              "      <th>min</th>\n",
              "      <td>1.00</td>\n",
              "      <td>85000.00</td>\n",
              "      <td>0.00</td>\n",
              "      <td>3000.00</td>\n",
              "      <td>1.00</td>\n",
              "      <td>0.00</td>\n",
              "      <td>0.00</td>\n",
              "      <td>0.00</td>\n",
              "      <td>1850.00</td>\n",
              "      <td>-38.17</td>\n",
              "      <td>144.43</td>\n",
              "      <td>389.00</td>\n",
              "    </tr>\n",
              "    <tr>\n",
              "      <th>25%</th>\n",
              "      <td>2.00</td>\n",
              "      <td>650000.00</td>\n",
              "      <td>6.30</td>\n",
              "      <td>3044.00</td>\n",
              "      <td>1.00</td>\n",
              "      <td>1.00</td>\n",
              "      <td>171.00</td>\n",
              "      <td>94.00</td>\n",
              "      <td>1940.00</td>\n",
              "      <td>-37.86</td>\n",
              "      <td>144.93</td>\n",
              "      <td>4380.00</td>\n",
              "    </tr>\n",
              "    <tr>\n",
              "      <th>50%</th>\n",
              "      <td>3.00</td>\n",
              "      <td>906000.00</td>\n",
              "      <td>9.40</td>\n",
              "      <td>3084.00</td>\n",
              "      <td>1.00</td>\n",
              "      <td>2.00</td>\n",
              "      <td>418.00</td>\n",
              "      <td>126.00</td>\n",
              "      <td>1970.00</td>\n",
              "      <td>-37.80</td>\n",
              "      <td>145.00</td>\n",
              "      <td>6543.00</td>\n",
              "    </tr>\n",
              "    <tr>\n",
              "      <th>75%</th>\n",
              "      <td>4.00</td>\n",
              "      <td>1330000.00</td>\n",
              "      <td>13.00</td>\n",
              "      <td>3147.00</td>\n",
              "      <td>2.00</td>\n",
              "      <td>2.00</td>\n",
              "      <td>641.00</td>\n",
              "      <td>172.00</td>\n",
              "      <td>1998.00</td>\n",
              "      <td>-37.76</td>\n",
              "      <td>145.06</td>\n",
              "      <td>10331.00</td>\n",
              "    </tr>\n",
              "    <tr>\n",
              "      <th>max</th>\n",
              "      <td>8.00</td>\n",
              "      <td>9000000.00</td>\n",
              "      <td>47.40</td>\n",
              "      <td>3977.00</td>\n",
              "      <td>5.00</td>\n",
              "      <td>6.00</td>\n",
              "      <td>1489.00</td>\n",
              "      <td>495.00</td>\n",
              "      <td>2017.00</td>\n",
              "      <td>-37.41</td>\n",
              "      <td>145.53</td>\n",
              "      <td>21650.00</td>\n",
              "    </tr>\n",
              "  </tbody>\n",
              "</table>\n",
              "</div>"
            ],
            "text/plain": [
              "          Rooms       Price  Distance  Postcode  Bathroom       Car  Landsize  \\\n",
              "count  13047.00    13047.00  13047.00  13047.00  13047.00  13047.00  13047.00   \n",
              "mean       2.95  1075168.60     10.19   3104.59      1.53      1.60    417.07   \n",
              "std        0.94   626588.44      5.76     89.49      0.67      0.92    291.98   \n",
              "min        1.00    85000.00      0.00   3000.00      1.00      0.00      0.00   \n",
              "25%        2.00   650000.00      6.30   3044.00      1.00      1.00    171.00   \n",
              "50%        3.00   906000.00      9.40   3084.00      1.00      2.00    418.00   \n",
              "75%        4.00  1330000.00     13.00   3147.00      2.00      2.00    641.00   \n",
              "max        8.00  9000000.00     47.40   3977.00      5.00      6.00   1489.00   \n",
              "\n",
              "       BuildingArea  YearBuilt  Lattitude  Longtitude  Propertycount  \n",
              "count       6861.00    7899.00   13047.00    13047.00       13047.00  \n",
              "mean         140.06    1964.51     -37.81      144.99        7445.87  \n",
              "std           70.96      36.08       0.08        0.10        4382.42  \n",
              "min            0.00    1850.00     -38.17      144.43         389.00  \n",
              "25%           94.00    1940.00     -37.86      144.93        4380.00  \n",
              "50%          126.00    1970.00     -37.80      145.00        6543.00  \n",
              "75%          172.00    1998.00     -37.76      145.06       10331.00  \n",
              "max          495.00    2017.00     -37.41      145.53       21650.00  "
            ]
          },
          "metadata": {
            "tags": []
          },
          "execution_count": 17
        }
      ]
    },
    {
      "cell_type": "markdown",
      "metadata": {
        "id": "jchusYvyDV_D"
      },
      "source": [
        "Como se observa, luego de aplicar los filtros, el dataframe pasa a tener 13.433 observaciones. No se ha perdido demasiada información. A continuación, se grafica la existencia de datos faltantes."
      ]
    },
    {
      "cell_type": "code",
      "metadata": {
        "id": "2AV99OYJDV_E"
      },
      "source": [
        "import missingno as msno"
      ],
      "execution_count": null,
      "outputs": []
    },
    {
      "cell_type": "code",
      "metadata": {
        "colab": {
          "base_uri": "https://localhost:8080/",
          "height": 505
        },
        "id": "PStkNo7hpl-R",
        "outputId": "79bde358-c19d-4aae-bdf2-a6cb33dd25f2"
      },
      "source": [
        "msno.bar(melb_df,figsize=(12, 6), fontsize=12, color='steelblue')"
      ],
      "execution_count": null,
      "outputs": [
        {
          "output_type": "execute_result",
          "data": {
            "text/plain": [
              "<AxesSubplot:>"
            ]
          },
          "metadata": {
            "tags": []
          },
          "execution_count": 19
        },
        {
          "output_type": "display_data",
          "data": {
            "image/png": "[encoded data removed]",
            "text/plain": [
              "<Figure size 864x432 with 3 Axes>"
            ]
          },
          "metadata": {
            "tags": [],
            "needs_background": "light"
          }
        }
      ]
    },
    {
      "cell_type": "markdown",
      "metadata": {
        "id": "w0OIsyAODV_E"
      },
      "source": [
        "Luego de graficar las variables, se observa que \"BuildingArea\", \"YearBuilt\" y \"CouncilArea\" poseen datos faltantes. La imputación de la variable categórica \"CouncilArea\" se hará más adelante, en Ejercicio 2 de esta Parte 1. La imputación de las variables numéricas se harán en la Parte 2 del Entregable."
      ]
    },
    {
      "cell_type": "markdown",
      "metadata": {
        "id": "hFNPs_7wq3xg"
      },
      "source": [
        "#### 2. Investigar la distribución de las variables del conjunto de datos y seleccionar un subconjunto de columnas que les parezcan relevantes al problema de predicción del valor de la propiedad.\n",
        "\n",
        "    2.1 Justificar cada columna no seleccionada.\n",
        "    \n",
        "    2.2 Para las variables categóricas seleccionadas, agrupe o combine las categorías poco frecuentes para asegurar que todos los grupos tengan un número mínimo de registros."
      ]
    },
    {
      "cell_type": "markdown",
      "metadata": {
        "id": "baaK8YXtDV_G"
      },
      "source": [
        "A continuación se presenta un breve repaso de las variables que quedan afuera del análisis:\n",
        "\n",
        "Al decidir trabajar con la variable \"CouncilArea\", se entiende que arroja información valiosa en cuanto a la ubicación de la propiedad, por lo que las variables \"Address\", \"Distance\", \"Regionname\", \"Longtitue\" y \"Lattitude\" quedan fuera por aportar el mismo tipo de información que se podría concluir de \"CouncilArea\". Si bien la variable \"Suburb\" podría haber sido utilizada para el mismo fin, su gran desagregación la haría dificil de manejar. Sin embargo, se mantendrá por ahora en el dataset por ser necesaria para imputar los datos faltantes en \"CouncilArea\"\n",
        "\n",
        "Además, y como se mencionó anteriormente, la variable Bedroom2 se elimina por estar altamente correlacionada con \"Rooms\".\n",
        "\n",
        "Dado esto, nuestras columnas relevantes son las restantes variables:"
      ]
    },
    {
      "cell_type": "code",
      "metadata": {
        "colab": {
          "base_uri": "https://localhost:8080/",
          "height": 198
        },
        "id": "JwYnGr8b-x3L",
        "outputId": "c8b71800-849d-45af-eabd-63b4b4e3f303"
      },
      "source": [
        "interesting_melb_cols = ['Suburb', 'Rooms', 'Type', 'Price','Method', 'SellerG',\n",
        "                         'Date', 'Postcode', 'Bathroom', 'Car', 'Landsize',\n",
        "                         'BuildingArea', 'YearBuilt', 'CouncilArea','Propertycount']\n",
        "\n",
        "print('Columnas consideradas: ', interesting_melb_cols)\n",
        "print('Columnas descartadas: ', list(set(melb_df.columns) - set(interesting_melb_cols))) # \"-\" difference entre dos conjuntos A y B\n",
        "\n",
        "melb_df_filt = melb_df.loc[:, interesting_melb_cols]\n",
        "melb_df_filt.head(3)"
      ],
      "execution_count": null,
      "outputs": [
        {
          "output_type": "stream",
          "text": [
            "Columnas consideradas:  ['Suburb', 'Rooms', 'Type', 'Price', 'Method', 'SellerG', 'Date', 'Postcode', 'Bathroom', 'Car', 'Landsize', 'BuildingArea', 'YearBuilt', 'CouncilArea', 'Propertycount']\n",
            "Columnas descartadas:  ['Distance', 'Lattitude', 'Longtitude', 'Address', 'Regionname']\n"
          ],
          "name": "stdout"
        },
        {
          "output_type": "execute_result",
          "data": {
            "text/html": [
              "<div>\n",
              "<style scoped>\n",
              "    .dataframe tbody tr th:only-of-type {\n",
              "        vertical-align: middle;\n",
              "    }\n",
              "\n",
              "    .dataframe tbody tr th {\n",
              "        vertical-align: top;\n",
              "    }\n",
              "\n",
              "    .dataframe thead th {\n",
              "        text-align: right;\n",
              "    }\n",
              "</style>\n",
              "<table border=\"1\" class=\"dataframe\">\n",
              "  <thead>\n",
              "    <tr style=\"text-align: right;\">\n",
              "      <th></th>\n",
              "      <th>Suburb</th>\n",
              "      <th>Rooms</th>\n",
              "      <th>Type</th>\n",
              "      <th>Price</th>\n",
              "      <th>Method</th>\n",
              "      <th>SellerG</th>\n",
              "      <th>Date</th>\n",
              "      <th>Postcode</th>\n",
              "      <th>Bathroom</th>\n",
              "      <th>Car</th>\n",
              "      <th>Landsize</th>\n",
              "      <th>BuildingArea</th>\n",
              "      <th>YearBuilt</th>\n",
              "      <th>CouncilArea</th>\n",
              "      <th>Propertycount</th>\n",
              "    </tr>\n",
              "  </thead>\n",
              "  <tbody>\n",
              "    <tr>\n",
              "      <th>0</th>\n",
              "      <td>Abbotsford</td>\n",
              "      <td>2</td>\n",
              "      <td>h</td>\n",
              "      <td>1480000.0</td>\n",
              "      <td>S</td>\n",
              "      <td>Biggin</td>\n",
              "      <td>3/12/2016</td>\n",
              "      <td>3067.0</td>\n",
              "      <td>1.0</td>\n",
              "      <td>1.0</td>\n",
              "      <td>202.0</td>\n",
              "      <td>NaN</td>\n",
              "      <td>NaN</td>\n",
              "      <td>Yarra</td>\n",
              "      <td>4019.0</td>\n",
              "    </tr>\n",
              "    <tr>\n",
              "      <th>1</th>\n",
              "      <td>Abbotsford</td>\n",
              "      <td>2</td>\n",
              "      <td>h</td>\n",
              "      <td>1035000.0</td>\n",
              "      <td>S</td>\n",
              "      <td>Biggin</td>\n",
              "      <td>4/02/2016</td>\n",
              "      <td>3067.0</td>\n",
              "      <td>1.0</td>\n",
              "      <td>0.0</td>\n",
              "      <td>156.0</td>\n",
              "      <td>79.0</td>\n",
              "      <td>1900.0</td>\n",
              "      <td>Yarra</td>\n",
              "      <td>4019.0</td>\n",
              "    </tr>\n",
              "    <tr>\n",
              "      <th>2</th>\n",
              "      <td>Abbotsford</td>\n",
              "      <td>3</td>\n",
              "      <td>h</td>\n",
              "      <td>1465000.0</td>\n",
              "      <td>SP</td>\n",
              "      <td>Biggin</td>\n",
              "      <td>4/03/2017</td>\n",
              "      <td>3067.0</td>\n",
              "      <td>2.0</td>\n",
              "      <td>0.0</td>\n",
              "      <td>134.0</td>\n",
              "      <td>150.0</td>\n",
              "      <td>1900.0</td>\n",
              "      <td>Yarra</td>\n",
              "      <td>4019.0</td>\n",
              "    </tr>\n",
              "  </tbody>\n",
              "</table>\n",
              "</div>"
            ],
            "text/plain": [
              "       Suburb  Rooms Type      Price Method SellerG       Date  Postcode  \\\n",
              "0  Abbotsford      2    h  1480000.0      S  Biggin  3/12/2016    3067.0   \n",
              "1  Abbotsford      2    h  1035000.0      S  Biggin  4/02/2016    3067.0   \n",
              "2  Abbotsford      3    h  1465000.0     SP  Biggin  4/03/2017    3067.0   \n",
              "\n",
              "   Bathroom  Car  Landsize  BuildingArea  YearBuilt CouncilArea  Propertycount  \n",
              "0       1.0  1.0     202.0           NaN        NaN       Yarra         4019.0  \n",
              "1       1.0  0.0     156.0          79.0     1900.0       Yarra         4019.0  \n",
              "2       2.0  0.0     134.0         150.0     1900.0       Yarra         4019.0  "
            ]
          },
          "metadata": {
            "tags": []
          },
          "execution_count": 20
        }
      ]
    },
    {
      "cell_type": "markdown",
      "metadata": {
        "id": "s-mixICN22kA"
      },
      "source": [
        "3. Agregar información adicional respectiva al entorno de una propiedad a partir del [conjunto de datos de AirBnB](https://www.kaggle.com/tylerx/melbourne-airbnb-open-data?select=cleansed_listings_dec18.csv). \n",
        "  1. Seleccionar qué variables agregar y qué combinaciones aplicar a cada una. Por ejemplo, pueden utilizar solo la columna `price`, o aplicar múltiples transformaciones como la mediana o el mínimo.\n",
        "  1. Utilizar la variable zipcode para unir los conjuntos de datos. Sólo incluir los zipcodes que tengan una cantidad mínima de registros (a elección) como para que la información agregada sea relevante.\n",
        "  2. Investigar al menos otras 2 variables que puedan servir para combinar los datos, y justificar si serían adecuadas o no. Pueden asumir que cuentan con la ayuda de anotadores expertos para encontrar equivalencias entre barrios o direcciones, o que cuentan con algoritmos para encontrar las n ubicaciones más cercanas a una propiedad a partir de sus coordenadas geográficas. **NO** es necesario que realicen la implementación.\n",
        "\n",
        "Pueden leer otras columnas del conjunto de AirBnB además de las que están en `interesting_cols`, si les parecen relevantes.\n"
      ]
    },
    {
      "cell_type": "markdown",
      "metadata": {
        "id": "FF8mmSMiDV_H"
      },
      "source": [
        "Para importar la información de AirBnB:"
      ]
    },
    {
      "cell_type": "code",
      "metadata": {
        "colab": {
          "base_uri": "https://localhost:8080/"
        },
        "id": "k3Z2vxNHJfJK",
        "outputId": "6e15951b-1f93-418d-c9e8-8d89d0b75035"
      },
      "source": [
        "#data source:\n",
        "#https://www.kaggle.com/tylerx/melbourne-airbnb-open-data?select=cleansed_listings_dec18.csv\n",
        "\n",
        "# airbnb_df = pd.read_csv('https://cs.famaf.unc.edu.ar/~mteruel/datasets/diplodatos/cleansed_listings_dec18.csv')\n",
        "# print(airbnb_df.columns)\n",
        "\n",
        "interesting_cols = [\n",
        "  'description', 'neighborhood_overview',\n",
        "  'street', 'neighborhood', 'city', 'suburb', 'state', 'zipcode',\n",
        "  'price', 'weekly_price', 'monthly_price',\n",
        "  'latitude', 'longitude',\n",
        "  'property_type', 'bathrooms', 'bedrooms']\n",
        "\n",
        "airbnb_df = pd.read_csv('https://cs.famaf.unc.edu.ar/~mteruel/datasets/diplodatos/cleansed_listings_dec18.csv',\n",
        "            usecols=interesting_cols)"
      ],
      "execution_count": null,
      "outputs": [
        {
          "output_type": "stream",
          "text": [
            "M:\\Anaconda\\lib\\site-packages\\IPython\\core\\interactiveshell.py:3165: DtypeWarning: Columns (35) have mixed types.Specify dtype option on import or set low_memory=False.\n",
            "  has_raised = await self.run_ast_nodes(code_ast.body, cell_name,\n"
          ],
          "name": "stderr"
        }
      ]
    },
    {
      "cell_type": "markdown",
      "metadata": {
        "id": "qlSerZgiDV_H"
      },
      "source": [
        "Nuevo dataframe:"
      ]
    },
    {
      "cell_type": "code",
      "metadata": {
        "colab": {
          "base_uri": "https://localhost:8080/",
          "height": 371
        },
        "id": "bc55TFlhF6tP",
        "outputId": "58d56366-c4e8-4da7-dac7-cf45399afef6"
      },
      "source": [
        "airbnb_df[:3]"
      ],
      "execution_count": null,
      "outputs": [
        {
          "output_type": "execute_result",
          "data": {
            "text/html": [
              "<div>\n",
              "<style scoped>\n",
              "    .dataframe tbody tr th:only-of-type {\n",
              "        vertical-align: middle;\n",
              "    }\n",
              "\n",
              "    .dataframe tbody tr th {\n",
              "        vertical-align: top;\n",
              "    }\n",
              "\n",
              "    .dataframe thead th {\n",
              "        text-align: right;\n",
              "    }\n",
              "</style>\n",
              "<table border=\"1\" class=\"dataframe\">\n",
              "  <thead>\n",
              "    <tr style=\"text-align: right;\">\n",
              "      <th></th>\n",
              "      <th>description</th>\n",
              "      <th>neighborhood_overview</th>\n",
              "      <th>street</th>\n",
              "      <th>neighborhood</th>\n",
              "      <th>city</th>\n",
              "      <th>suburb</th>\n",
              "      <th>state</th>\n",
              "      <th>zipcode</th>\n",
              "      <th>latitude</th>\n",
              "      <th>longitude</th>\n",
              "      <th>property_type</th>\n",
              "      <th>bathrooms</th>\n",
              "      <th>bedrooms</th>\n",
              "      <th>price</th>\n",
              "      <th>weekly_price</th>\n",
              "      <th>monthly_price</th>\n",
              "    </tr>\n",
              "  </thead>\n",
              "  <tbody>\n",
              "    <tr>\n",
              "      <th>0</th>\n",
              "      <td>House: Clean, New, Modern, Quite, Safe. 10Km f...</td>\n",
              "      <td>Very safe! Family oriented. Older age group.</td>\n",
              "      <td>Bulleen, VIC, Australia</td>\n",
              "      <td>Balwyn North</td>\n",
              "      <td>Manningham</td>\n",
              "      <td>Bulleen</td>\n",
              "      <td>VIC</td>\n",
              "      <td>3105</td>\n",
              "      <td>-37.772684</td>\n",
              "      <td>145.092133</td>\n",
              "      <td>House</td>\n",
              "      <td>1.0</td>\n",
              "      <td>1.0</td>\n",
              "      <td>60</td>\n",
              "      <td>NaN</td>\n",
              "      <td>NaN</td>\n",
              "    </tr>\n",
              "    <tr>\n",
              "      <th>1</th>\n",
              "      <td>A large air conditioned room with queen spring...</td>\n",
              "      <td>This hip area is a crossroads between two grea...</td>\n",
              "      <td>Brunswick East, VIC, Australia</td>\n",
              "      <td>Brunswick</td>\n",
              "      <td>Moreland</td>\n",
              "      <td>Brunswick East</td>\n",
              "      <td>VIC</td>\n",
              "      <td>3057</td>\n",
              "      <td>-37.766505</td>\n",
              "      <td>144.980736</td>\n",
              "      <td>Apartment</td>\n",
              "      <td>1.0</td>\n",
              "      <td>1.0</td>\n",
              "      <td>35</td>\n",
              "      <td>200.0</td>\n",
              "      <td>803.0</td>\n",
              "    </tr>\n",
              "    <tr>\n",
              "      <th>2</th>\n",
              "      <td>RIGHT IN THE HEART OF ST KILDA! It doesn't get...</td>\n",
              "      <td>A stay at our apartment means you can enjoy so...</td>\n",
              "      <td>St Kilda, VIC, Australia</td>\n",
              "      <td>St Kilda</td>\n",
              "      <td>Port Phillip</td>\n",
              "      <td>St Kilda</td>\n",
              "      <td>VIC</td>\n",
              "      <td>3182</td>\n",
              "      <td>-37.859755</td>\n",
              "      <td>144.977369</td>\n",
              "      <td>Apartment</td>\n",
              "      <td>1.0</td>\n",
              "      <td>1.0</td>\n",
              "      <td>159</td>\n",
              "      <td>1253.0</td>\n",
              "      <td>4452.0</td>\n",
              "    </tr>\n",
              "  </tbody>\n",
              "</table>\n",
              "</div>"
            ],
            "text/plain": [
              "                                         description  \\\n",
              "0  House: Clean, New, Modern, Quite, Safe. 10Km f...   \n",
              "1  A large air conditioned room with queen spring...   \n",
              "2  RIGHT IN THE HEART OF ST KILDA! It doesn't get...   \n",
              "\n",
              "                               neighborhood_overview  \\\n",
              "0       Very safe! Family oriented. Older age group.   \n",
              "1  This hip area is a crossroads between two grea...   \n",
              "2  A stay at our apartment means you can enjoy so...   \n",
              "\n",
              "                           street  neighborhood          city          suburb  \\\n",
              "0         Bulleen, VIC, Australia  Balwyn North    Manningham         Bulleen   \n",
              "1  Brunswick East, VIC, Australia     Brunswick      Moreland  Brunswick East   \n",
              "2        St Kilda, VIC, Australia      St Kilda  Port Phillip        St Kilda   \n",
              "\n",
              "  state zipcode   latitude   longitude property_type  bathrooms  bedrooms  \\\n",
              "0   VIC    3105 -37.772684  145.092133         House        1.0       1.0   \n",
              "1   VIC    3057 -37.766505  144.980736     Apartment        1.0       1.0   \n",
              "2   VIC    3182 -37.859755  144.977369     Apartment        1.0       1.0   \n",
              "\n",
              "   price  weekly_price  monthly_price  \n",
              "0     60           NaN            NaN  \n",
              "1     35         200.0          803.0  \n",
              "2    159        1253.0         4452.0  "
            ]
          },
          "metadata": {
            "tags": []
          },
          "execution_count": 22
        }
      ]
    },
    {
      "cell_type": "code",
      "metadata": {
        "colab": {
          "base_uri": "https://localhost:8080/"
        },
        "id": "2RXmPi32DV_H",
        "outputId": "48227522-1ef5-4c3e-e61c-a6edb1bcdff2"
      },
      "source": [
        "airbnb_df.info()"
      ],
      "execution_count": null,
      "outputs": [
        {
          "output_type": "stream",
          "text": [
            "<class 'pandas.core.frame.DataFrame'>\n",
            "RangeIndex: 22895 entries, 0 to 22894\n",
            "Data columns (total 16 columns):\n",
            " #   Column                 Non-Null Count  Dtype  \n",
            "---  ------                 --------------  -----  \n",
            " 0   description            22563 non-null  object \n",
            " 1   neighborhood_overview  14424 non-null  object \n",
            " 2   street                 22895 non-null  object \n",
            " 3   neighborhood           17082 non-null  object \n",
            " 4   city                   22895 non-null  object \n",
            " 5   suburb                 22872 non-null  object \n",
            " 6   state                  22834 non-null  object \n",
            " 7   zipcode                22753 non-null  object \n",
            " 8   latitude               22895 non-null  float64\n",
            " 9   longitude              22895 non-null  float64\n",
            " 10  property_type          22895 non-null  object \n",
            " 11  bathrooms              22878 non-null  float64\n",
            " 12  bedrooms               22890 non-null  float64\n",
            " 13  price                  22895 non-null  int64  \n",
            " 14  weekly_price           2524 non-null   float64\n",
            " 15  monthly_price          1891 non-null   float64\n",
            "dtypes: float64(6), int64(1), object(9)\n",
            "memory usage: 2.8+ MB\n"
          ],
          "name": "stdout"
        }
      ]
    },
    {
      "cell_type": "markdown",
      "metadata": {
        "id": "SdN_T6I3DV_I"
      },
      "source": [
        "La variable \"zipcode\" es un objeto, por lo que tenemos que convertirla a una variable de tipo float64 para trabajarla."
      ]
    },
    {
      "cell_type": "code",
      "metadata": {
        "id": "W-0UxczZxKTs"
      },
      "source": [
        "airbnb_df['zipcode'] = pd.to_numeric(airbnb_df.zipcode, errors='coerce')"
      ],
      "execution_count": null,
      "outputs": []
    },
    {
      "cell_type": "markdown",
      "metadata": {
        "id": "3xYO2sJJDV_I"
      },
      "source": [
        "Al estudiar la intersección entre la información disponible en la variable \"Zipcode\" de cada dataframe, se puede concluir que esta variable será la utilizada para unir las dos bases de datos, por encontrarse 191 zipcodes en común de un total de 198 que existen en la base con la información de ventas de propiedades."
      ]
    },
    {
      "cell_type": "code",
      "metadata": {
        "colab": {
          "base_uri": "https://localhost:8080/"
        },
        "id": "BdbhrDcRxOCs",
        "outputId": "8b1b5055-b881-4871-a471-cafc1ba0dc23"
      },
      "source": [
        "intersection = np.intersect1d(\n",
        "    airbnb_df.zipcode.values, melb_df_filt.Postcode.values, assume_unique=False)\n",
        "print(\"Airbnb unique zipcodes\", len(airbnb_df.zipcode.unique()))\n",
        "print(\"Sales unique zipcodes\", len(melb_df_filt.Postcode.unique()))\n",
        "print(\"Common zipcodes\", len(intersection))"
      ],
      "execution_count": null,
      "outputs": [
        {
          "output_type": "stream",
          "text": [
            "Airbnb unique zipcodes 248\n",
            "Sales unique zipcodes 195\n",
            "Common zipcodes 189\n"
          ],
          "name": "stdout"
        }
      ]
    },
    {
      "cell_type": "markdown",
      "metadata": {
        "id": "g3LLkP8uSsxu"
      },
      "source": [
        "Del dataframe proveniente de AirBnB sólo se considerarán la columnas \"zipcode\" y \"price\". A continuación se extran estas columnas en un nuevo df. Además, para cada \"zipcode\" se asigna el valor promedio de la variable \"price\". De esa manera queda una relación biunívoca entre ambas variables."
      ]
    },
    {
      "cell_type": "code",
      "metadata": {
        "colab": {
          "base_uri": "https://localhost:8080/",
          "height": 423
        },
        "id": "21Zvc_JZxQf8",
        "outputId": "6a6588ac-ba58-431f-f728-1a7789ab7086"
      },
      "source": [
        "airbnb_price_by_zipcode=airbnb_df[['price','zipcode']]\\\n",
        "  .groupby('zipcode').mean().reset_index()\n",
        "\n",
        "airbnb_price_by_zipcode"
      ],
      "execution_count": null,
      "outputs": [
        {
          "output_type": "execute_result",
          "data": {
            "text/html": [
              "<div>\n",
              "<style scoped>\n",
              "    .dataframe tbody tr th:only-of-type {\n",
              "        vertical-align: middle;\n",
              "    }\n",
              "\n",
              "    .dataframe tbody tr th {\n",
              "        vertical-align: top;\n",
              "    }\n",
              "\n",
              "    .dataframe thead th {\n",
              "        text-align: right;\n",
              "    }\n",
              "</style>\n",
              "<table border=\"1\" class=\"dataframe\">\n",
              "  <thead>\n",
              "    <tr style=\"text-align: right;\">\n",
              "      <th></th>\n",
              "      <th>zipcode</th>\n",
              "      <th>price</th>\n",
              "    </tr>\n",
              "  </thead>\n",
              "  <tbody>\n",
              "    <tr>\n",
              "      <th>0</th>\n",
              "      <td>2010.0</td>\n",
              "      <td>40.000000</td>\n",
              "    </tr>\n",
              "    <tr>\n",
              "      <th>1</th>\n",
              "      <td>2134.0</td>\n",
              "      <td>50.000000</td>\n",
              "    </tr>\n",
              "    <tr>\n",
              "      <th>2</th>\n",
              "      <td>2582.0</td>\n",
              "      <td>104.000000</td>\n",
              "    </tr>\n",
              "    <tr>\n",
              "      <th>3</th>\n",
              "      <td>3000.0</td>\n",
              "      <td>150.504307</td>\n",
              "    </tr>\n",
              "    <tr>\n",
              "      <th>4</th>\n",
              "      <td>3001.0</td>\n",
              "      <td>132.500000</td>\n",
              "    </tr>\n",
              "    <tr>\n",
              "      <th>...</th>\n",
              "      <td>...</td>\n",
              "      <td>...</td>\n",
              "    </tr>\n",
              "    <tr>\n",
              "      <th>242</th>\n",
              "      <td>7367.0</td>\n",
              "      <td>230.000000</td>\n",
              "    </tr>\n",
              "    <tr>\n",
              "      <th>243</th>\n",
              "      <td>8938.0</td>\n",
              "      <td>296.000000</td>\n",
              "    </tr>\n",
              "    <tr>\n",
              "      <th>244</th>\n",
              "      <td>9004.0</td>\n",
              "      <td>226.000000</td>\n",
              "    </tr>\n",
              "    <tr>\n",
              "      <th>245</th>\n",
              "      <td>9540.0</td>\n",
              "      <td>245.000000</td>\n",
              "    </tr>\n",
              "    <tr>\n",
              "      <th>246</th>\n",
              "      <td>30122.0</td>\n",
              "      <td>75.000000</td>\n",
              "    </tr>\n",
              "  </tbody>\n",
              "</table>\n",
              "<p>247 rows × 2 columns</p>\n",
              "</div>"
            ],
            "text/plain": [
              "     zipcode       price\n",
              "0     2010.0   40.000000\n",
              "1     2134.0   50.000000\n",
              "2     2582.0  104.000000\n",
              "3     3000.0  150.504307\n",
              "4     3001.0  132.500000\n",
              "..       ...         ...\n",
              "242   7367.0  230.000000\n",
              "243   8938.0  296.000000\n",
              "244   9004.0  226.000000\n",
              "245   9540.0  245.000000\n",
              "246  30122.0   75.000000\n",
              "\n",
              "[247 rows x 2 columns]"
            ]
          },
          "metadata": {
            "tags": []
          },
          "execution_count": 26
        }
      ]
    },
    {
      "cell_type": "code",
      "metadata": {
        "colab": {
          "base_uri": "https://localhost:8080/",
          "height": 163
        },
        "id": "hxDGdelcDV_J",
        "outputId": "52a45148-5fa0-4ec1-c1d0-be6c0dc94798"
      },
      "source": [
        "merged_df = melb_df_filt.merge(\n",
        "    airbnb_price_by_zipcode, how='left',\n",
        "    left_on='Postcode', right_on='zipcode')\n",
        "\n",
        "merged_df.head(3)"
      ],
      "execution_count": null,
      "outputs": [
        {
          "output_type": "execute_result",
          "data": {
            "text/html": [
              "<div>\n",
              "<style scoped>\n",
              "    .dataframe tbody tr th:only-of-type {\n",
              "        vertical-align: middle;\n",
              "    }\n",
              "\n",
              "    .dataframe tbody tr th {\n",
              "        vertical-align: top;\n",
              "    }\n",
              "\n",
              "    .dataframe thead th {\n",
              "        text-align: right;\n",
              "    }\n",
              "</style>\n",
              "<table border=\"1\" class=\"dataframe\">\n",
              "  <thead>\n",
              "    <tr style=\"text-align: right;\">\n",
              "      <th></th>\n",
              "      <th>Suburb</th>\n",
              "      <th>Rooms</th>\n",
              "      <th>Type</th>\n",
              "      <th>Price</th>\n",
              "      <th>Method</th>\n",
              "      <th>SellerG</th>\n",
              "      <th>Date</th>\n",
              "      <th>Postcode</th>\n",
              "      <th>Bathroom</th>\n",
              "      <th>Car</th>\n",
              "      <th>Landsize</th>\n",
              "      <th>BuildingArea</th>\n",
              "      <th>YearBuilt</th>\n",
              "      <th>CouncilArea</th>\n",
              "      <th>Propertycount</th>\n",
              "      <th>zipcode</th>\n",
              "      <th>price</th>\n",
              "    </tr>\n",
              "  </thead>\n",
              "  <tbody>\n",
              "    <tr>\n",
              "      <th>0</th>\n",
              "      <td>Abbotsford</td>\n",
              "      <td>2</td>\n",
              "      <td>h</td>\n",
              "      <td>1480000.0</td>\n",
              "      <td>S</td>\n",
              "      <td>Biggin</td>\n",
              "      <td>3/12/2016</td>\n",
              "      <td>3067.0</td>\n",
              "      <td>1.0</td>\n",
              "      <td>1.0</td>\n",
              "      <td>202.0</td>\n",
              "      <td>NaN</td>\n",
              "      <td>NaN</td>\n",
              "      <td>Yarra</td>\n",
              "      <td>4019.0</td>\n",
              "      <td>3067.0</td>\n",
              "      <td>130.624031</td>\n",
              "    </tr>\n",
              "    <tr>\n",
              "      <th>1</th>\n",
              "      <td>Abbotsford</td>\n",
              "      <td>2</td>\n",
              "      <td>h</td>\n",
              "      <td>1035000.0</td>\n",
              "      <td>S</td>\n",
              "      <td>Biggin</td>\n",
              "      <td>4/02/2016</td>\n",
              "      <td>3067.0</td>\n",
              "      <td>1.0</td>\n",
              "      <td>0.0</td>\n",
              "      <td>156.0</td>\n",
              "      <td>79.0</td>\n",
              "      <td>1900.0</td>\n",
              "      <td>Yarra</td>\n",
              "      <td>4019.0</td>\n",
              "      <td>3067.0</td>\n",
              "      <td>130.624031</td>\n",
              "    </tr>\n",
              "    <tr>\n",
              "      <th>2</th>\n",
              "      <td>Abbotsford</td>\n",
              "      <td>3</td>\n",
              "      <td>h</td>\n",
              "      <td>1465000.0</td>\n",
              "      <td>SP</td>\n",
              "      <td>Biggin</td>\n",
              "      <td>4/03/2017</td>\n",
              "      <td>3067.0</td>\n",
              "      <td>2.0</td>\n",
              "      <td>0.0</td>\n",
              "      <td>134.0</td>\n",
              "      <td>150.0</td>\n",
              "      <td>1900.0</td>\n",
              "      <td>Yarra</td>\n",
              "      <td>4019.0</td>\n",
              "      <td>3067.0</td>\n",
              "      <td>130.624031</td>\n",
              "    </tr>\n",
              "  </tbody>\n",
              "</table>\n",
              "</div>"
            ],
            "text/plain": [
              "       Suburb  Rooms Type      Price Method SellerG       Date  Postcode  \\\n",
              "0  Abbotsford      2    h  1480000.0      S  Biggin  3/12/2016    3067.0   \n",
              "1  Abbotsford      2    h  1035000.0      S  Biggin  4/02/2016    3067.0   \n",
              "2  Abbotsford      3    h  1465000.0     SP  Biggin  4/03/2017    3067.0   \n",
              "\n",
              "   Bathroom  Car  Landsize  BuildingArea  YearBuilt CouncilArea  \\\n",
              "0       1.0  1.0     202.0           NaN        NaN       Yarra   \n",
              "1       1.0  0.0     156.0          79.0     1900.0       Yarra   \n",
              "2       2.0  0.0     134.0         150.0     1900.0       Yarra   \n",
              "\n",
              "   Propertycount  zipcode       price  \n",
              "0         4019.0   3067.0  130.624031  \n",
              "1         4019.0   3067.0  130.624031  \n",
              "2         4019.0   3067.0  130.624031  "
            ]
          },
          "metadata": {
            "tags": []
          },
          "execution_count": 27
        }
      ]
    },
    {
      "cell_type": "markdown",
      "metadata": {
        "id": "vW6f3U2ZDV_K"
      },
      "source": [
        "Se renombra la variable \"price\" (proveniente de la database de Airbnb) por \"price_airbnb\" para evitar nombres duplicados. A su vez, se descarta la variable \"zipcode\" por el mismo motivo, ya que está considerada en la variable \"Postcode\" de la database original."
      ]
    },
    {
      "cell_type": "code",
      "metadata": {
        "colab": {
          "base_uri": "https://localhost:8080/"
        },
        "id": "eo3RYltMxUIu",
        "outputId": "e449892e-85b2-4da9-accd-7c3871a65c20"
      },
      "source": [
        "merged_df.rename(columns={'price': 'price_airbnb'}, inplace=True)\n",
        "merged_df.drop('zipcode', axis=1, inplace=True)\n",
        "\n",
        "merged_df.isna().sum()"
      ],
      "execution_count": null,
      "outputs": [
        {
          "output_type": "execute_result",
          "data": {
            "text/plain": [
              "Suburb              0\n",
              "Rooms               0\n",
              "Type                0\n",
              "Price               0\n",
              "Method              0\n",
              "SellerG             0\n",
              "Date                0\n",
              "Postcode            0\n",
              "Bathroom            0\n",
              "Car                 0\n",
              "Landsize            0\n",
              "BuildingArea     6186\n",
              "YearBuilt        5148\n",
              "CouncilArea      1269\n",
              "Propertycount       0\n",
              "price_airbnb       15\n",
              "dtype: int64"
            ]
          },
          "metadata": {
            "tags": []
          },
          "execution_count": 28
        }
      ]
    },
    {
      "cell_type": "markdown",
      "metadata": {
        "id": "vzH_wLHLypMG"
      },
      "source": [
        "Si se asume que se cuenta con la ayuda de anotadores expertos que pueden encontrar equivalencias entre barrios o direcciones, entonces se puede suponer que las bases pueden ser agregadas utilizando las variables \"Suburb\" y/o \"Neighborhood\". Además, se podrían utilizar las variables \"Longtitude\" y \"Lattitude\" para crear una nueva variable concatenada que contenga la coordenada de la propiedad. En ese caso se trataría exactamente de la misma ubicación y el mismo tipo de variable."
      ]
    },
    {
      "cell_type": "markdown",
      "metadata": {
        "id": "ismngxPcfoWb"
      },
      "source": [
        "## Ejercicio 2: Imputación\n",
        "\n",
        "1. Imputar los valores faltantes de la columna CouncilArea en base a la información presente en Suburb. (Si en el punto anterior no seleccionó ninguna de estas variables, agréguelas ahora el conjunto de datos).\n",
        "\n",
        "2. Imputar los valores faltantes de la(s) columna(s) que se agregaron a partir del conjunto de datos de AirBnB.\n",
        "\n"
      ]
    },
    {
      "cell_type": "code",
      "metadata": {
        "colab": {
          "base_uri": "https://localhost:8080/",
          "height": 163
        },
        "id": "G4ClSr_JapCw",
        "outputId": "8ffde265-577c-4fc4-89d5-f69f94c697b5"
      },
      "source": [
        "merged_df.head(3)"
      ],
      "execution_count": null,
      "outputs": [
        {
          "output_type": "execute_result",
          "data": {
            "text/html": [
              "<div>\n",
              "<style scoped>\n",
              "    .dataframe tbody tr th:only-of-type {\n",
              "        vertical-align: middle;\n",
              "    }\n",
              "\n",
              "    .dataframe tbody tr th {\n",
              "        vertical-align: top;\n",
              "    }\n",
              "\n",
              "    .dataframe thead th {\n",
              "        text-align: right;\n",
              "    }\n",
              "</style>\n",
              "<table border=\"1\" class=\"dataframe\">\n",
              "  <thead>\n",
              "    <tr style=\"text-align: right;\">\n",
              "      <th></th>\n",
              "      <th>Suburb</th>\n",
              "      <th>Rooms</th>\n",
              "      <th>Type</th>\n",
              "      <th>Price</th>\n",
              "      <th>Method</th>\n",
              "      <th>SellerG</th>\n",
              "      <th>Date</th>\n",
              "      <th>Postcode</th>\n",
              "      <th>Bathroom</th>\n",
              "      <th>Car</th>\n",
              "      <th>Landsize</th>\n",
              "      <th>BuildingArea</th>\n",
              "      <th>YearBuilt</th>\n",
              "      <th>CouncilArea</th>\n",
              "      <th>Propertycount</th>\n",
              "      <th>price_airbnb</th>\n",
              "    </tr>\n",
              "  </thead>\n",
              "  <tbody>\n",
              "    <tr>\n",
              "      <th>0</th>\n",
              "      <td>Abbotsford</td>\n",
              "      <td>2</td>\n",
              "      <td>h</td>\n",
              "      <td>1480000.0</td>\n",
              "      <td>S</td>\n",
              "      <td>Biggin</td>\n",
              "      <td>3/12/2016</td>\n",
              "      <td>3067.0</td>\n",
              "      <td>1.0</td>\n",
              "      <td>1.0</td>\n",
              "      <td>202.0</td>\n",
              "      <td>NaN</td>\n",
              "      <td>NaN</td>\n",
              "      <td>Yarra</td>\n",
              "      <td>4019.0</td>\n",
              "      <td>130.624031</td>\n",
              "    </tr>\n",
              "    <tr>\n",
              "      <th>1</th>\n",
              "      <td>Abbotsford</td>\n",
              "      <td>2</td>\n",
              "      <td>h</td>\n",
              "      <td>1035000.0</td>\n",
              "      <td>S</td>\n",
              "      <td>Biggin</td>\n",
              "      <td>4/02/2016</td>\n",
              "      <td>3067.0</td>\n",
              "      <td>1.0</td>\n",
              "      <td>0.0</td>\n",
              "      <td>156.0</td>\n",
              "      <td>79.0</td>\n",
              "      <td>1900.0</td>\n",
              "      <td>Yarra</td>\n",
              "      <td>4019.0</td>\n",
              "      <td>130.624031</td>\n",
              "    </tr>\n",
              "    <tr>\n",
              "      <th>2</th>\n",
              "      <td>Abbotsford</td>\n",
              "      <td>3</td>\n",
              "      <td>h</td>\n",
              "      <td>1465000.0</td>\n",
              "      <td>SP</td>\n",
              "      <td>Biggin</td>\n",
              "      <td>4/03/2017</td>\n",
              "      <td>3067.0</td>\n",
              "      <td>2.0</td>\n",
              "      <td>0.0</td>\n",
              "      <td>134.0</td>\n",
              "      <td>150.0</td>\n",
              "      <td>1900.0</td>\n",
              "      <td>Yarra</td>\n",
              "      <td>4019.0</td>\n",
              "      <td>130.624031</td>\n",
              "    </tr>\n",
              "  </tbody>\n",
              "</table>\n",
              "</div>"
            ],
            "text/plain": [
              "       Suburb  Rooms Type      Price Method SellerG       Date  Postcode  \\\n",
              "0  Abbotsford      2    h  1480000.0      S  Biggin  3/12/2016    3067.0   \n",
              "1  Abbotsford      2    h  1035000.0      S  Biggin  4/02/2016    3067.0   \n",
              "2  Abbotsford      3    h  1465000.0     SP  Biggin  4/03/2017    3067.0   \n",
              "\n",
              "   Bathroom  Car  Landsize  BuildingArea  YearBuilt CouncilArea  \\\n",
              "0       1.0  1.0     202.0           NaN        NaN       Yarra   \n",
              "1       1.0  0.0     156.0          79.0     1900.0       Yarra   \n",
              "2       2.0  0.0     134.0         150.0     1900.0       Yarra   \n",
              "\n",
              "   Propertycount  price_airbnb  \n",
              "0         4019.0    130.624031  \n",
              "1         4019.0    130.624031  \n",
              "2         4019.0    130.624031  "
            ]
          },
          "metadata": {
            "tags": []
          },
          "execution_count": 29
        }
      ]
    },
    {
      "cell_type": "code",
      "metadata": {
        "colab": {
          "base_uri": "https://localhost:8080/",
          "height": 505
        },
        "id": "YE9j5kTWzI6E",
        "outputId": "d986c2b6-000d-4ddf-bc35-948563582b50"
      },
      "source": [
        "msno.bar(merged_df,figsize=(12, 6), fontsize=12, color='steelblue')"
      ],
      "execution_count": null,
      "outputs": [
        {
          "output_type": "execute_result",
          "data": {
            "text/plain": [
              "<AxesSubplot:>"
            ]
          },
          "metadata": {
            "tags": []
          },
          "execution_count": 30
        },
        {
          "output_type": "display_data",
          "data": {
            "image/png": "[encoded data removed]",
            "text/plain": [
              "<Figure size 864x432 with 3 Axes>"
            ]
          },
          "metadata": {
            "tags": [],
            "needs_background": "light"
          }
        }
      ]
    },
    {
      "cell_type": "markdown",
      "metadata": {
        "id": "pTqSppDxDV_M"
      },
      "source": [
        "La variable categórica \"CouncilArea\" es la que posee valores faltantes. Dado esto, se imputarán valores empleando *CategoricalImputer* de *sklearn*. Otra opción para hacer esto, sería la de imputar valores en base a la información presente en la variable \"Suburb\", suponiendo que el nombre del barrio es igual al nombre del municipio."
      ]
    },
    {
      "cell_type": "code",
      "metadata": {
        "colab": {
          "base_uri": "https://localhost:8080/",
          "height": 226
        },
        "id": "7XcyCSne3hmR",
        "outputId": "0d5581dc-c7f1-4dfd-9abe-c2bd7921c783"
      },
      "source": [
        "import sklearn\n",
        "import sklearn.impute\n",
        "from sklearn import impute\n",
        "from sklearn.impute import SimpleImputer\n",
        "imputer = SimpleImputer( strategy='most_frequent')\n",
        "merged_df['CouncilArea']=imputer.fit_transform(merged_df['CouncilArea'].values.reshape(-1,1))[:,0]\n",
        "\n",
        "merged_df.head()"
      ],
      "execution_count": null,
      "outputs": [
        {
          "output_type": "execute_result",
          "data": {
            "text/html": [
              "<div>\n",
              "<style scoped>\n",
              "    .dataframe tbody tr th:only-of-type {\n",
              "        vertical-align: middle;\n",
              "    }\n",
              "\n",
              "    .dataframe tbody tr th {\n",
              "        vertical-align: top;\n",
              "    }\n",
              "\n",
              "    .dataframe thead th {\n",
              "        text-align: right;\n",
              "    }\n",
              "</style>\n",
              "<table border=\"1\" class=\"dataframe\">\n",
              "  <thead>\n",
              "    <tr style=\"text-align: right;\">\n",
              "      <th></th>\n",
              "      <th>Suburb</th>\n",
              "      <th>Rooms</th>\n",
              "      <th>Type</th>\n",
              "      <th>Price</th>\n",
              "      <th>Method</th>\n",
              "      <th>SellerG</th>\n",
              "      <th>Date</th>\n",
              "      <th>Postcode</th>\n",
              "      <th>Bathroom</th>\n",
              "      <th>Car</th>\n",
              "      <th>Landsize</th>\n",
              "      <th>BuildingArea</th>\n",
              "      <th>YearBuilt</th>\n",
              "      <th>CouncilArea</th>\n",
              "      <th>Propertycount</th>\n",
              "      <th>price_airbnb</th>\n",
              "    </tr>\n",
              "  </thead>\n",
              "  <tbody>\n",
              "    <tr>\n",
              "      <th>0</th>\n",
              "      <td>Abbotsford</td>\n",
              "      <td>2</td>\n",
              "      <td>h</td>\n",
              "      <td>1480000.0</td>\n",
              "      <td>S</td>\n",
              "      <td>Biggin</td>\n",
              "      <td>3/12/2016</td>\n",
              "      <td>3067.0</td>\n",
              "      <td>1.0</td>\n",
              "      <td>1.0</td>\n",
              "      <td>202.0</td>\n",
              "      <td>NaN</td>\n",
              "      <td>NaN</td>\n",
              "      <td>Yarra</td>\n",
              "      <td>4019.0</td>\n",
              "      <td>130.624031</td>\n",
              "    </tr>\n",
              "    <tr>\n",
              "      <th>1</th>\n",
              "      <td>Abbotsford</td>\n",
              "      <td>2</td>\n",
              "      <td>h</td>\n",
              "      <td>1035000.0</td>\n",
              "      <td>S</td>\n",
              "      <td>Biggin</td>\n",
              "      <td>4/02/2016</td>\n",
              "      <td>3067.0</td>\n",
              "      <td>1.0</td>\n",
              "      <td>0.0</td>\n",
              "      <td>156.0</td>\n",
              "      <td>79.0</td>\n",
              "      <td>1900.0</td>\n",
              "      <td>Yarra</td>\n",
              "      <td>4019.0</td>\n",
              "      <td>130.624031</td>\n",
              "    </tr>\n",
              "    <tr>\n",
              "      <th>2</th>\n",
              "      <td>Abbotsford</td>\n",
              "      <td>3</td>\n",
              "      <td>h</td>\n",
              "      <td>1465000.0</td>\n",
              "      <td>SP</td>\n",
              "      <td>Biggin</td>\n",
              "      <td>4/03/2017</td>\n",
              "      <td>3067.0</td>\n",
              "      <td>2.0</td>\n",
              "      <td>0.0</td>\n",
              "      <td>134.0</td>\n",
              "      <td>150.0</td>\n",
              "      <td>1900.0</td>\n",
              "      <td>Yarra</td>\n",
              "      <td>4019.0</td>\n",
              "      <td>130.624031</td>\n",
              "    </tr>\n",
              "    <tr>\n",
              "      <th>3</th>\n",
              "      <td>Abbotsford</td>\n",
              "      <td>3</td>\n",
              "      <td>h</td>\n",
              "      <td>850000.0</td>\n",
              "      <td>PI</td>\n",
              "      <td>Biggin</td>\n",
              "      <td>4/03/2017</td>\n",
              "      <td>3067.0</td>\n",
              "      <td>2.0</td>\n",
              "      <td>1.0</td>\n",
              "      <td>94.0</td>\n",
              "      <td>NaN</td>\n",
              "      <td>NaN</td>\n",
              "      <td>Yarra</td>\n",
              "      <td>4019.0</td>\n",
              "      <td>130.624031</td>\n",
              "    </tr>\n",
              "    <tr>\n",
              "      <th>4</th>\n",
              "      <td>Abbotsford</td>\n",
              "      <td>4</td>\n",
              "      <td>h</td>\n",
              "      <td>1600000.0</td>\n",
              "      <td>VB</td>\n",
              "      <td>Nelson</td>\n",
              "      <td>4/06/2016</td>\n",
              "      <td>3067.0</td>\n",
              "      <td>1.0</td>\n",
              "      <td>2.0</td>\n",
              "      <td>120.0</td>\n",
              "      <td>142.0</td>\n",
              "      <td>2014.0</td>\n",
              "      <td>Yarra</td>\n",
              "      <td>4019.0</td>\n",
              "      <td>130.624031</td>\n",
              "    </tr>\n",
              "  </tbody>\n",
              "</table>\n",
              "</div>"
            ],
            "text/plain": [
              "       Suburb  Rooms Type      Price Method SellerG       Date  Postcode  \\\n",
              "0  Abbotsford      2    h  1480000.0      S  Biggin  3/12/2016    3067.0   \n",
              "1  Abbotsford      2    h  1035000.0      S  Biggin  4/02/2016    3067.0   \n",
              "2  Abbotsford      3    h  1465000.0     SP  Biggin  4/03/2017    3067.0   \n",
              "3  Abbotsford      3    h   850000.0     PI  Biggin  4/03/2017    3067.0   \n",
              "4  Abbotsford      4    h  1600000.0     VB  Nelson  4/06/2016    3067.0   \n",
              "\n",
              "   Bathroom  Car  Landsize  BuildingArea  YearBuilt CouncilArea  \\\n",
              "0       1.0  1.0     202.0           NaN        NaN       Yarra   \n",
              "1       1.0  0.0     156.0          79.0     1900.0       Yarra   \n",
              "2       2.0  0.0     134.0         150.0     1900.0       Yarra   \n",
              "3       2.0  1.0      94.0           NaN        NaN       Yarra   \n",
              "4       1.0  2.0     120.0         142.0     2014.0       Yarra   \n",
              "\n",
              "   Propertycount  price_airbnb  \n",
              "0         4019.0    130.624031  \n",
              "1         4019.0    130.624031  \n",
              "2         4019.0    130.624031  \n",
              "3         4019.0    130.624031  \n",
              "4         4019.0    130.624031  "
            ]
          },
          "metadata": {
            "tags": []
          },
          "execution_count": 31
        }
      ]
    },
    {
      "cell_type": "code",
      "metadata": {
        "colab": {
          "base_uri": "https://localhost:8080/",
          "height": 505
        },
        "id": "DfchYPgTxvQ4",
        "outputId": "07bae78f-1b9f-4a9b-fb74-6bd8a0a85d05"
      },
      "source": [
        "msno.bar(merged_df,figsize=(12, 6), fontsize=12, color='steelblue')"
      ],
      "execution_count": null,
      "outputs": [
        {
          "output_type": "execute_result",
          "data": {
            "text/plain": [
              "<AxesSubplot:>"
            ]
          },
          "metadata": {
            "tags": []
          },
          "execution_count": 32
        },
        {
          "output_type": "display_data",
          "data": {
            "image/png": "[encoded data removed]",
            "text/plain": [
              "<Figure size 864x432 with 3 Axes>"
            ]
          },
          "metadata": {
            "tags": [],
            "needs_background": "light"
          }
        }
      ]
    },
    {
      "cell_type": "markdown",
      "metadata": {
        "id": "Tg2jy4BNWUyH"
      },
      "source": [
        "De esta manera, resta imputar valores a las columnas numéricas \"BuildingArea\", \"YearBuilt\" y \"price_airbnb\". Las dos primeras nomrbadas se imputarán en la Parte 2 del Entregable, como y ase mencionó. La variable \"price_airbnb\" se imputa a continuación, ya que en el merge de ambos dataframes la cantidad de Postcodes del primero era mayor al del proveniente de la database de AriBnB. Como se observa en el gráfico anterior, resta imputar 20 valores para la columna \"price_airbnb\". Esto se hará en base a la mediana de la columna \"Price\""
      ]
    },
    {
      "cell_type": "code",
      "metadata": {
        "colab": {
          "base_uri": "https://localhost:8080/",
          "height": 297
        },
        "id": "x2UxT12f5qgz",
        "outputId": "5139b71c-219d-474b-ae63-ff0dda31abff"
      },
      "source": [
        "merged_df[\"price_airbnb\"] =merged_df[\"price_airbnb\"].fillna(merged_df.groupby('Postcode')['Price'].transform('median'))\n",
        "merged_df.describe()"
      ],
      "execution_count": null,
      "outputs": [
        {
          "output_type": "execute_result",
          "data": {
            "text/html": [
              "<div>\n",
              "<style scoped>\n",
              "    .dataframe tbody tr th:only-of-type {\n",
              "        vertical-align: middle;\n",
              "    }\n",
              "\n",
              "    .dataframe tbody tr th {\n",
              "        vertical-align: top;\n",
              "    }\n",
              "\n",
              "    .dataframe thead th {\n",
              "        text-align: right;\n",
              "    }\n",
              "</style>\n",
              "<table border=\"1\" class=\"dataframe\">\n",
              "  <thead>\n",
              "    <tr style=\"text-align: right;\">\n",
              "      <th></th>\n",
              "      <th>Rooms</th>\n",
              "      <th>Price</th>\n",
              "      <th>Postcode</th>\n",
              "      <th>Bathroom</th>\n",
              "      <th>Car</th>\n",
              "      <th>Landsize</th>\n",
              "      <th>BuildingArea</th>\n",
              "      <th>YearBuilt</th>\n",
              "      <th>Propertycount</th>\n",
              "      <th>price_airbnb</th>\n",
              "    </tr>\n",
              "  </thead>\n",
              "  <tbody>\n",
              "    <tr>\n",
              "      <th>count</th>\n",
              "      <td>13047.000000</td>\n",
              "      <td>1.304700e+04</td>\n",
              "      <td>13047.000000</td>\n",
              "      <td>13047.000000</td>\n",
              "      <td>13047.000000</td>\n",
              "      <td>13047.000000</td>\n",
              "      <td>6861.000000</td>\n",
              "      <td>7899.000000</td>\n",
              "      <td>13047.000000</td>\n",
              "      <td>13047.000000</td>\n",
              "    </tr>\n",
              "    <tr>\n",
              "      <th>mean</th>\n",
              "      <td>2.949337</td>\n",
              "      <td>1.075169e+06</td>\n",
              "      <td>3104.591784</td>\n",
              "      <td>1.530697</td>\n",
              "      <td>1.604277</td>\n",
              "      <td>417.074117</td>\n",
              "      <td>140.064333</td>\n",
              "      <td>1964.511584</td>\n",
              "      <td>7445.872001</td>\n",
              "      <td>736.281637</td>\n",
              "    </tr>\n",
              "    <tr>\n",
              "      <th>std</th>\n",
              "      <td>0.943259</td>\n",
              "      <td>6.265884e+05</td>\n",
              "      <td>89.485543</td>\n",
              "      <td>0.667312</td>\n",
              "      <td>0.924478</td>\n",
              "      <td>291.982819</td>\n",
              "      <td>70.964599</td>\n",
              "      <td>36.083138</td>\n",
              "      <td>4382.421537</td>\n",
              "      <td>18348.051373</td>\n",
              "    </tr>\n",
              "    <tr>\n",
              "      <th>min</th>\n",
              "      <td>1.000000</td>\n",
              "      <td>8.500000e+04</td>\n",
              "      <td>3000.000000</td>\n",
              "      <td>1.000000</td>\n",
              "      <td>0.000000</td>\n",
              "      <td>0.000000</td>\n",
              "      <td>0.000000</td>\n",
              "      <td>1850.000000</td>\n",
              "      <td>389.000000</td>\n",
              "      <td>40.000000</td>\n",
              "    </tr>\n",
              "    <tr>\n",
              "      <th>25%</th>\n",
              "      <td>2.000000</td>\n",
              "      <td>6.500000e+05</td>\n",
              "      <td>3044.000000</td>\n",
              "      <td>1.000000</td>\n",
              "      <td>1.000000</td>\n",
              "      <td>171.000000</td>\n",
              "      <td>94.000000</td>\n",
              "      <td>1940.000000</td>\n",
              "      <td>4380.000000</td>\n",
              "      <td>94.205128</td>\n",
              "    </tr>\n",
              "    <tr>\n",
              "      <th>50%</th>\n",
              "      <td>3.000000</td>\n",
              "      <td>9.060000e+05</td>\n",
              "      <td>3084.000000</td>\n",
              "      <td>1.000000</td>\n",
              "      <td>2.000000</td>\n",
              "      <td>418.000000</td>\n",
              "      <td>126.000000</td>\n",
              "      <td>1970.000000</td>\n",
              "      <td>6543.000000</td>\n",
              "      <td>114.142857</td>\n",
              "    </tr>\n",
              "    <tr>\n",
              "      <th>75%</th>\n",
              "      <td>4.000000</td>\n",
              "      <td>1.330000e+06</td>\n",
              "      <td>3147.000000</td>\n",
              "      <td>2.000000</td>\n",
              "      <td>2.000000</td>\n",
              "      <td>641.000000</td>\n",
              "      <td>172.000000</td>\n",
              "      <td>1998.000000</td>\n",
              "      <td>10331.000000</td>\n",
              "      <td>147.729515</td>\n",
              "    </tr>\n",
              "    <tr>\n",
              "      <th>max</th>\n",
              "      <td>8.000000</td>\n",
              "      <td>9.000000e+06</td>\n",
              "      <td>3977.000000</td>\n",
              "      <td>5.000000</td>\n",
              "      <td>6.000000</td>\n",
              "      <td>1489.000000</td>\n",
              "      <td>495.000000</td>\n",
              "      <td>2017.000000</td>\n",
              "      <td>21650.000000</td>\n",
              "      <td>817000.000000</td>\n",
              "    </tr>\n",
              "  </tbody>\n",
              "</table>\n",
              "</div>"
            ],
            "text/plain": [
              "              Rooms         Price      Postcode      Bathroom           Car  \\\n",
              "count  13047.000000  1.304700e+04  13047.000000  13047.000000  13047.000000   \n",
              "mean       2.949337  1.075169e+06   3104.591784      1.530697      1.604277   \n",
              "std        0.943259  6.265884e+05     89.485543      0.667312      0.924478   \n",
              "min        1.000000  8.500000e+04   3000.000000      1.000000      0.000000   \n",
              "25%        2.000000  6.500000e+05   3044.000000      1.000000      1.000000   \n",
              "50%        3.000000  9.060000e+05   3084.000000      1.000000      2.000000   \n",
              "75%        4.000000  1.330000e+06   3147.000000      2.000000      2.000000   \n",
              "max        8.000000  9.000000e+06   3977.000000      5.000000      6.000000   \n",
              "\n",
              "           Landsize  BuildingArea    YearBuilt  Propertycount   price_airbnb  \n",
              "count  13047.000000   6861.000000  7899.000000   13047.000000   13047.000000  \n",
              "mean     417.074117    140.064333  1964.511584    7445.872001     736.281637  \n",
              "std      291.982819     70.964599    36.083138    4382.421537   18348.051373  \n",
              "min        0.000000      0.000000  1850.000000     389.000000      40.000000  \n",
              "25%      171.000000     94.000000  1940.000000    4380.000000      94.205128  \n",
              "50%      418.000000    126.000000  1970.000000    6543.000000     114.142857  \n",
              "75%      641.000000    172.000000  1998.000000   10331.000000     147.729515  \n",
              "max     1489.000000    495.000000  2017.000000   21650.000000  817000.000000  "
            ]
          },
          "metadata": {
            "tags": []
          },
          "execution_count": 33
        }
      ]
    },
    {
      "cell_type": "markdown",
      "metadata": {
        "id": "0p_qcnfEXlqJ"
      },
      "source": [
        "Se chequea gráficamente que no queden valores por imputar:"
      ]
    },
    {
      "cell_type": "code",
      "metadata": {
        "colab": {
          "base_uri": "https://localhost:8080/",
          "height": 504
        },
        "id": "glMuHE4uXo5q",
        "outputId": "c16291de-b9c5-47ef-f8c4-c41d0f2c4a32"
      },
      "source": [
        "msno.bar(merged_df,figsize=(12, 6), fontsize=12, color='steelblue')"
      ],
      "execution_count": null,
      "outputs": [
        {
          "output_type": "execute_result",
          "data": {
            "text/plain": [
              "<AxesSubplot:>"
            ]
          },
          "metadata": {
            "tags": []
          },
          "execution_count": 34
        },
        {
          "output_type": "display_data",
          "data": {
            "image/png": "[encoded data removed]",
            "text/plain": [
              "<Figure size 864x432 with 3 Axes>"
            ]
          },
          "metadata": {
            "tags": [],
            "needs_background": "light"
          }
        }
      ]
    },
    {
      "cell_type": "markdown",
      "metadata": {
        "id": "NBN7-5OIxjJW"
      },
      "source": [
        "## Ejercicio 3\n",
        "\n",
        "Crear y guardar un nuevo conjunto de datos con todas las transformaciones realizadas anteriormente."
      ]
    },
    {
      "cell_type": "code",
      "metadata": {
        "id": "Mv0VZhTXDV_N"
      },
      "source": [
        "melbourn_housing = merged_df.copy()"
      ],
      "execution_count": null,
      "outputs": []
    },
    {
      "cell_type": "code",
      "metadata": {
        "id": "GAAkdpA788Tt"
      },
      "source": [
        "melbourn_housing.to_csv('melbourn_housing.csv', index=False) \n"
      ],
      "execution_count": null,
      "outputs": []
    }
  ]
}