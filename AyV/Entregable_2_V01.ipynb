{
  "nbformat": 4,
  "nbformat_minor": 0,
  "metadata": {
    "colab": {
      "name": "Entregable 2-V01",
      "provenance": [],
      "collapsed_sections": [],
      "include_colab_link": true
    },
    "kernelspec": {
      "name": "python3",
      "display_name": "Python 3"
    }
  },
  "cells": [
    {
      "cell_type": "markdown",
      "metadata": {
        "id": "view-in-github",
        "colab_type": "text"
      },
      "source": [
        "<a href=\"https://colab.research.google.com/github/nicocarrion1/DiploDatos_AyV_G5/blob/main/Entregable_2_V01.ipynb\" target=\"_parent\"><img src=\"https://colab.research.google.com/assets/colab-badge.svg\" alt=\"Open In Colab\"/></a>"
      ]
    },
    {
      "cell_type": "markdown",
      "metadata": {
        "id": "LYvAOR2VzHmW"
      },
      "source": [
        "\n",
        "**Diplomatura en Ciencia de Datos, Aprendizaje Automático y sus Aplicaciones**\n",
        "\n",
        "**Edición 2021**\n",
        "\n",
        "---\n",
        "\n",
        "# Trabajo práctico entregable - Parte 2"
      ]
    },
    {
      "cell_type": "markdown",
      "metadata": {
        "id": "iLfY8Oenlinw"
      },
      "source": [
        "<font color='orange'> \n",
        "\n",
        "**Grupo 5**: Nicolás Carrión, Génesis Núñez Sanchez, Magdalena Sella, Exequiel Santucho\n",
        "</font>\n",
        "\n",
        "En el desarrollo que continúa, se indican en color <font color='skyblue'>celeste</font> los comentarios y planteos añadidos."
      ]
    },
    {
      "cell_type": "code",
      "metadata": {
        "id": "Xwdfo7z20TUK"
      },
      "source": [
        "import io\n",
        "import matplotlib\n",
        "import matplotlib.pyplot as plt\n",
        "import numpy\n",
        "import pandas as pd\n",
        "import seaborn\n",
        "\n",
        "seaborn.set_context('talk')"
      ],
      "execution_count": null,
      "outputs": []
    },
    {
      "cell_type": "markdown",
      "metadata": {
        "id": "XY2Hl-Ma07Nn"
      },
      "source": [
        "## Lectura del dataset\n",
        "\n",
        "En la notebook 00 se explican los detalles de la siguiente sección."
      ]
    },
    {
      "cell_type": "code",
      "metadata": {
        "id": "Vviv_sqXdR5W"
      },
      "source": [
        "url = 'https://cs.famaf.unc.edu.ar/~mteruel/datasets/diplodatos/sysarmy_survey_2020_processed.csv'\n",
        "df = pd.read_csv(url)"
      ],
      "execution_count": null,
      "outputs": []
    },
    {
      "cell_type": "code",
      "metadata": {
        "id": "gckNHXXLktJ4",
        "colab": {
          "base_uri": "https://localhost:8080/",
          "height": 296
        },
        "outputId": "faa8e25d-a65d-4219-a9f0-f40a0dc9dafe"
      },
      "source": [
        "df[:3]"
      ],
      "execution_count": null,
      "outputs": [
        {
          "output_type": "execute_result",
          "data": {
            "text/html": [
              "<div>\n",
              "<style scoped>\n",
              "    .dataframe tbody tr th:only-of-type {\n",
              "        vertical-align: middle;\n",
              "    }\n",
              "\n",
              "    .dataframe tbody tr th {\n",
              "        vertical-align: top;\n",
              "    }\n",
              "\n",
              "    .dataframe thead th {\n",
              "        text-align: right;\n",
              "    }\n",
              "</style>\n",
              "<table border=\"1\" class=\"dataframe\">\n",
              "  <thead>\n",
              "    <tr style=\"text-align: right;\">\n",
              "      <th></th>\n",
              "      <th>profile_gender</th>\n",
              "      <th>profile_age</th>\n",
              "      <th>work_country</th>\n",
              "      <th>work_province</th>\n",
              "      <th>profile_years_experience</th>\n",
              "      <th>work_years_in_company</th>\n",
              "      <th>work_years_in_current_position</th>\n",
              "      <th>work_people_in_charge_of</th>\n",
              "      <th>profile_studies_level</th>\n",
              "      <th>profile_studies_level_state</th>\n",
              "      <th>profile_career</th>\n",
              "      <th>profile_university</th>\n",
              "      <th>profile_specialization_courses</th>\n",
              "      <th>profile_open_source_contributions</th>\n",
              "      <th>profile_programming_as_hobby</th>\n",
              "      <th>work_role</th>\n",
              "      <th>tools_platform</th>\n",
              "      <th>tools_programming_languages</th>\n",
              "      <th>tools_frameworks</th>\n",
              "      <th>tools_data_bases</th>\n",
              "      <th>tools_qa_testing</th>\n",
              "      <th>tools_IDEs</th>\n",
              "      <th>tools_work_pc_os</th>\n",
              "      <th>tools_cellphone_os</th>\n",
              "      <th>work_on_call_duty</th>\n",
              "      <th>salary_on_call_duty_charge</th>\n",
              "      <th>work_on_call_duty_charge_type</th>\n",
              "      <th>work_contract_type</th>\n",
              "      <th>salary_monthly_BRUTO</th>\n",
              "      <th>salary_monthly_NETO</th>\n",
              "      <th>salary_in_usd</th>\n",
              "      <th>salary_satisfaction</th>\n",
              "      <th>salary_comparison_last_semester</th>\n",
              "      <th>salary_has_bonus</th>\n",
              "      <th>salary_bonus_tied_to</th>\n",
              "      <th>salary_inflation_adjustment_2020</th>\n",
              "      <th>salary_percentage_inflation_adjustment_2020</th>\n",
              "      <th>salary_month_last_inflation_adjustment</th>\n",
              "      <th>work_has_violence_situations</th>\n",
              "      <th>profile_sexual_orientation</th>\n",
              "      <th>profile_has_disabilities</th>\n",
              "      <th>profile_has_disabilities_hiring_difficulties</th>\n",
              "      <th>company_employee_number</th>\n",
              "      <th>company_main_activity</th>\n",
              "      <th>company_recommended</th>\n",
              "      <th>company_diversity_policies</th>\n",
              "      <th>company_extra_benefits</th>\n",
              "      <th>company_best_companies_city</th>\n",
              "    </tr>\n",
              "  </thead>\n",
              "  <tbody>\n",
              "    <tr>\n",
              "      <th>0</th>\n",
              "      <td>Mujer</td>\n",
              "      <td>26</td>\n",
              "      <td>Argentina</td>\n",
              "      <td>Ciudad Autónoma de Buenos Aires</td>\n",
              "      <td>3.0</td>\n",
              "      <td>3.0</td>\n",
              "      <td>3.0</td>\n",
              "      <td>0</td>\n",
              "      <td>Universitario</td>\n",
              "      <td>En curso</td>\n",
              "      <td>Ingeniería en Sistemas de Información</td>\n",
              "      <td>UTN - Universidad Tecnológica Nacional</td>\n",
              "      <td>Sí, los pagó un empleador</td>\n",
              "      <td>No</td>\n",
              "      <td>Sí</td>\n",
              "      <td>Consultant</td>\n",
              "      <td>Ninguna</td>\n",
              "      <td>Ninguno</td>\n",
              "      <td>Ninguno</td>\n",
              "      <td>Ninguna</td>\n",
              "      <td>Ninguna</td>\n",
              "      <td>Ninguno</td>\n",
              "      <td>GNU/Linux</td>\n",
              "      <td>Android</td>\n",
              "      <td>No</td>\n",
              "      <td>0.0</td>\n",
              "      <td>Bruto</td>\n",
              "      <td>Full-Time</td>\n",
              "      <td>53000.0</td>\n",
              "      <td>43000.0</td>\n",
              "      <td>NaN</td>\n",
              "      <td>1</td>\n",
              "      <td>1</td>\n",
              "      <td>No</td>\n",
              "      <td>No recibo bono</td>\n",
              "      <td>No</td>\n",
              "      <td>0.0</td>\n",
              "      <td>0</td>\n",
              "      <td>En mi trabajo actual</td>\n",
              "      <td>Homosexual</td>\n",
              "      <td>NaN</td>\n",
              "      <td>NaN</td>\n",
              "      <td>501-1000</td>\n",
              "      <td>Servicios / Consultoría de Software / Digital</td>\n",
              "      <td>7</td>\n",
              "      <td>2</td>\n",
              "      <td>Capacitaciones y/o cursos, Comidas pagas / sub...</td>\n",
              "      <td>NaN</td>\n",
              "    </tr>\n",
              "    <tr>\n",
              "      <th>1</th>\n",
              "      <td>Hombre</td>\n",
              "      <td>29</td>\n",
              "      <td>Argentina</td>\n",
              "      <td>Corrientes</td>\n",
              "      <td>5.0</td>\n",
              "      <td>2.0</td>\n",
              "      <td>2.0</td>\n",
              "      <td>4</td>\n",
              "      <td>Universitario</td>\n",
              "      <td>En curso</td>\n",
              "      <td>Ingeniería en Sistemas de Información</td>\n",
              "      <td>UTN - Universidad Tecnológica Nacional</td>\n",
              "      <td>Sí, de forma particular, Sí, los pagó un emple...</td>\n",
              "      <td>No</td>\n",
              "      <td>Sí</td>\n",
              "      <td>Developer</td>\n",
              "      <td>Docker, Google Cloud Platform/App Engine</td>\n",
              "      <td>HTML, Javascript, Python</td>\n",
              "      <td>Django, jQuery</td>\n",
              "      <td>Informix, MySQL, PostgreSQL</td>\n",
              "      <td>Ninguna</td>\n",
              "      <td>IPython / Jupyter, Sublime Text, Visual Studio...</td>\n",
              "      <td>GNU/Linux</td>\n",
              "      <td>Android</td>\n",
              "      <td>No</td>\n",
              "      <td>0.0</td>\n",
              "      <td>Bruto</td>\n",
              "      <td>Full-Time</td>\n",
              "      <td>79000.0</td>\n",
              "      <td>63000.0</td>\n",
              "      <td>NaN</td>\n",
              "      <td>2</td>\n",
              "      <td>2</td>\n",
              "      <td>Menos de un sueldo</td>\n",
              "      <td>Performance de la compañía</td>\n",
              "      <td>Uno</td>\n",
              "      <td>10.0</td>\n",
              "      <td>1</td>\n",
              "      <td>Jamás</td>\n",
              "      <td>Heterosexual</td>\n",
              "      <td>Visual</td>\n",
              "      <td>No</td>\n",
              "      <td>201-500</td>\n",
              "      <td>Otras industrias</td>\n",
              "      <td>8</td>\n",
              "      <td>9</td>\n",
              "      <td>Horarios flexibles, Stock options / RSUs, Viát...</td>\n",
              "      <td>NaN</td>\n",
              "    </tr>\n",
              "    <tr>\n",
              "      <th>2</th>\n",
              "      <td>Mujer</td>\n",
              "      <td>22</td>\n",
              "      <td>Argentina</td>\n",
              "      <td>Ciudad Autónoma de Buenos Aires</td>\n",
              "      <td>2.0</td>\n",
              "      <td>0.0</td>\n",
              "      <td>0.0</td>\n",
              "      <td>0</td>\n",
              "      <td>Secundario</td>\n",
              "      <td>Completado</td>\n",
              "      <td>NaN</td>\n",
              "      <td>NaN</td>\n",
              "      <td>Sí, de forma particular, Sí, los pagó un emple...</td>\n",
              "      <td>No</td>\n",
              "      <td>Sí</td>\n",
              "      <td>Infosec</td>\n",
              "      <td>Linux, VMWare</td>\n",
              "      <td>Ninguno</td>\n",
              "      <td>Ninguno</td>\n",
              "      <td>Ninguna</td>\n",
              "      <td>Ninguna</td>\n",
              "      <td>Ninguno</td>\n",
              "      <td>Windows</td>\n",
              "      <td>iOS</td>\n",
              "      <td>No</td>\n",
              "      <td>0.0</td>\n",
              "      <td>Porcentaje de mi sueldo</td>\n",
              "      <td>Full-Time</td>\n",
              "      <td>160000.0</td>\n",
              "      <td>127000.0</td>\n",
              "      <td>NaN</td>\n",
              "      <td>3</td>\n",
              "      <td>3</td>\n",
              "      <td>Un sueldo</td>\n",
              "      <td>Performance individual</td>\n",
              "      <td>No</td>\n",
              "      <td>0.0</td>\n",
              "      <td>0</td>\n",
              "      <td>En un trabajo anterior</td>\n",
              "      <td>Bisexual o queer</td>\n",
              "      <td>NaN</td>\n",
              "      <td>No</td>\n",
              "      <td>2001-5000</td>\n",
              "      <td>Otras industrias</td>\n",
              "      <td>6</td>\n",
              "      <td>9</td>\n",
              "      <td>Clases de gimnasia online, Comidas pagas / sub...</td>\n",
              "      <td>NaN</td>\n",
              "    </tr>\n",
              "  </tbody>\n",
              "</table>\n",
              "</div>"
            ],
            "text/plain": [
              "  profile_gender  ...  company_best_companies_city\n",
              "0          Mujer  ...                          NaN\n",
              "1         Hombre  ...                          NaN\n",
              "2          Mujer  ...                          NaN\n",
              "\n",
              "[3 rows x 48 columns]"
            ]
          },
          "metadata": {
            "tags": []
          },
          "execution_count": 4
        }
      ]
    },
    {
      "cell_type": "code",
      "metadata": {
        "id": "2lzmzK1NuPNT",
        "colab": {
          "base_uri": "https://localhost:8080/",
          "height": 203
        },
        "outputId": "7da5c1d1-5453-499a-96cd-87b899af239e"
      },
      "source": [
        "df[['profile_gender', 'salary_monthly_NETO']].groupby('profile_gender').describe()"
      ],
      "execution_count": null,
      "outputs": [
        {
          "output_type": "execute_result",
          "data": {
            "text/html": [
              "<div>\n",
              "<style scoped>\n",
              "    .dataframe tbody tr th:only-of-type {\n",
              "        vertical-align: middle;\n",
              "    }\n",
              "\n",
              "    .dataframe tbody tr th {\n",
              "        vertical-align: top;\n",
              "    }\n",
              "\n",
              "    .dataframe thead tr th {\n",
              "        text-align: left;\n",
              "    }\n",
              "\n",
              "    .dataframe thead tr:last-of-type th {\n",
              "        text-align: right;\n",
              "    }\n",
              "</style>\n",
              "<table border=\"1\" class=\"dataframe\">\n",
              "  <thead>\n",
              "    <tr>\n",
              "      <th></th>\n",
              "      <th colspan=\"8\" halign=\"left\">salary_monthly_NETO</th>\n",
              "    </tr>\n",
              "    <tr>\n",
              "      <th></th>\n",
              "      <th>count</th>\n",
              "      <th>mean</th>\n",
              "      <th>std</th>\n",
              "      <th>min</th>\n",
              "      <th>25%</th>\n",
              "      <th>50%</th>\n",
              "      <th>75%</th>\n",
              "      <th>max</th>\n",
              "    </tr>\n",
              "    <tr>\n",
              "      <th>profile_gender</th>\n",
              "      <th></th>\n",
              "      <th></th>\n",
              "      <th></th>\n",
              "      <th></th>\n",
              "      <th></th>\n",
              "      <th></th>\n",
              "      <th></th>\n",
              "      <th></th>\n",
              "    </tr>\n",
              "  </thead>\n",
              "  <tbody>\n",
              "    <tr>\n",
              "      <th>Hombre</th>\n",
              "      <td>4944.0</td>\n",
              "      <td>98836.063558</td>\n",
              "      <td>102159.664237</td>\n",
              "      <td>1.0</td>\n",
              "      <td>53285.0</td>\n",
              "      <td>80000.0</td>\n",
              "      <td>110000.0</td>\n",
              "      <td>2080000.0</td>\n",
              "    </tr>\n",
              "    <tr>\n",
              "      <th>Mujer</th>\n",
              "      <td>908.0</td>\n",
              "      <td>73501.414465</td>\n",
              "      <td>56256.880181</td>\n",
              "      <td>2.0</td>\n",
              "      <td>43818.0</td>\n",
              "      <td>65000.0</td>\n",
              "      <td>92000.0</td>\n",
              "      <td>800000.0</td>\n",
              "    </tr>\n",
              "    <tr>\n",
              "      <th>Otros</th>\n",
              "      <td>31.0</td>\n",
              "      <td>95441.354839</td>\n",
              "      <td>88635.674358</td>\n",
              "      <td>40.0</td>\n",
              "      <td>39500.0</td>\n",
              "      <td>74000.0</td>\n",
              "      <td>117500.0</td>\n",
              "      <td>380000.0</td>\n",
              "    </tr>\n",
              "  </tbody>\n",
              "</table>\n",
              "</div>"
            ],
            "text/plain": [
              "               salary_monthly_NETO                ...                     \n",
              "                             count          mean  ...       75%        max\n",
              "profile_gender                                    ...                     \n",
              "Hombre                      4944.0  98836.063558  ...  110000.0  2080000.0\n",
              "Mujer                        908.0  73501.414465  ...   92000.0   800000.0\n",
              "Otros                         31.0  95441.354839  ...  117500.0   380000.0\n",
              "\n",
              "[3 rows x 8 columns]"
            ]
          },
          "metadata": {
            "tags": []
          },
          "execution_count": 5
        }
      ]
    },
    {
      "cell_type": "code",
      "metadata": {
        "colab": {
          "base_uri": "https://localhost:8080/",
          "height": 203
        },
        "id": "pycKJ5jWkShW",
        "outputId": "6c6b851f-c571-433e-a60b-027a2d9ca811"
      },
      "source": [
        "df[df.salary_monthly_NETO > 1000]\\\n",
        "  [['profile_gender', 'salary_monthly_NETO']].groupby('profile_gender').describe()"
      ],
      "execution_count": null,
      "outputs": [
        {
          "output_type": "execute_result",
          "data": {
            "text/html": [
              "<div>\n",
              "<style scoped>\n",
              "    .dataframe tbody tr th:only-of-type {\n",
              "        vertical-align: middle;\n",
              "    }\n",
              "\n",
              "    .dataframe tbody tr th {\n",
              "        vertical-align: top;\n",
              "    }\n",
              "\n",
              "    .dataframe thead tr th {\n",
              "        text-align: left;\n",
              "    }\n",
              "\n",
              "    .dataframe thead tr:last-of-type th {\n",
              "        text-align: right;\n",
              "    }\n",
              "</style>\n",
              "<table border=\"1\" class=\"dataframe\">\n",
              "  <thead>\n",
              "    <tr>\n",
              "      <th></th>\n",
              "      <th colspan=\"8\" halign=\"left\">salary_monthly_NETO</th>\n",
              "    </tr>\n",
              "    <tr>\n",
              "      <th></th>\n",
              "      <th>count</th>\n",
              "      <th>mean</th>\n",
              "      <th>std</th>\n",
              "      <th>min</th>\n",
              "      <th>25%</th>\n",
              "      <th>50%</th>\n",
              "      <th>75%</th>\n",
              "      <th>max</th>\n",
              "    </tr>\n",
              "    <tr>\n",
              "      <th>profile_gender</th>\n",
              "      <th></th>\n",
              "      <th></th>\n",
              "      <th></th>\n",
              "      <th></th>\n",
              "      <th></th>\n",
              "      <th></th>\n",
              "      <th></th>\n",
              "      <th></th>\n",
              "    </tr>\n",
              "  </thead>\n",
              "  <tbody>\n",
              "    <tr>\n",
              "      <th>Hombre</th>\n",
              "      <td>4815.0</td>\n",
              "      <td>101481.624343</td>\n",
              "      <td>102215.304684</td>\n",
              "      <td>1100.0</td>\n",
              "      <td>55000.0</td>\n",
              "      <td>80000.0</td>\n",
              "      <td>110000.0</td>\n",
              "      <td>2080000.0</td>\n",
              "    </tr>\n",
              "    <tr>\n",
              "      <th>Mujer</th>\n",
              "      <td>863.0</td>\n",
              "      <td>77328.913778</td>\n",
              "      <td>55082.760570</td>\n",
              "      <td>2000.0</td>\n",
              "      <td>47850.0</td>\n",
              "      <td>67200.0</td>\n",
              "      <td>93000.0</td>\n",
              "      <td>800000.0</td>\n",
              "    </tr>\n",
              "    <tr>\n",
              "      <th>Otros</th>\n",
              "      <td>28.0</td>\n",
              "      <td>105660.714286</td>\n",
              "      <td>87235.710235</td>\n",
              "      <td>34000.0</td>\n",
              "      <td>43750.0</td>\n",
              "      <td>78900.0</td>\n",
              "      <td>122750.0</td>\n",
              "      <td>380000.0</td>\n",
              "    </tr>\n",
              "  </tbody>\n",
              "</table>\n",
              "</div>"
            ],
            "text/plain": [
              "               salary_monthly_NETO                 ...                     \n",
              "                             count           mean  ...       75%        max\n",
              "profile_gender                                     ...                     \n",
              "Hombre                      4815.0  101481.624343  ...  110000.0  2080000.0\n",
              "Mujer                        863.0   77328.913778  ...   93000.0   800000.0\n",
              "Otros                         28.0  105660.714286  ...  122750.0   380000.0\n",
              "\n",
              "[3 rows x 8 columns]"
            ]
          },
          "metadata": {
            "tags": []
          },
          "execution_count": 6
        }
      ]
    },
    {
      "cell_type": "code",
      "metadata": {
        "id": "uZ1GxkLylHx0"
      },
      "source": [
        "alpha = 0.05"
      ],
      "execution_count": null,
      "outputs": []
    },
    {
      "cell_type": "code",
      "metadata": {
        "id": "OfzFpDO-lYxk"
      },
      "source": [
        "is_man = df.profile_gender == 'Hombre'\n",
        "\n",
        "groupA = df[(df.salary_monthly_NETO > 1000) & is_man].salary_monthly_NETO\n",
        "groupB = df[(df.salary_monthly_NETO > 1000) & ~is_man].salary_monthly_NETO\n",
        "\n",
        "\n",
        "# Filtado valores extremos\n",
        "max_limit = 2.5*float(df['salary_monthly_NETO'].quantile([0.95])) # Descarto valores extremos en Salario Neto y/o Bruto\n",
        "min_limit = 2.5*float(df['salary_monthly_NETO'].quantile([0.02]))\n",
        "dff = df.loc[(df['salary_monthly_NETO'] < max_limit) & (df['salary_monthly_NETO'] > min_limit)]\n",
        "\n",
        "is_man = dff.profile_gender == 'Hombre'\n",
        "groupA = dff[is_man].salary_monthly_NETO\n",
        "groupB = dff[~is_man].salary_monthly_NETO"
      ],
      "execution_count": null,
      "outputs": []
    },
    {
      "cell_type": "markdown",
      "metadata": {
        "id": "co_0M_ojtmUh"
      },
      "source": [
        "## Ejercicio 1: Estimación\n",
        "\n",
        "**Consigna:**  Calcular una estimación puntual y un intervalo de confianza de nivel (1-alpha) para la resta entre la media del salario Neto para Hombres menos la media del salario Neto para otros géneros(diferencia de las medias entre el grupoA y grupoB). \n",
        "¿Cómo se relaciona este intervalo de confianza con el test de hipótesis?"
      ]
    },
    {
      "cell_type": "markdown",
      "metadata": {
        "id": "AbbJgLkcc0dr"
      },
      "source": [
        "<font color='skyblue'> \n",
        "a) Estimación puntual\n",
        "\n",
        "El cálculo del estimador puntual para la resta de medias entre *salario neto* para *hombres* y *otros géneros* (denotado como $\\bar{X}^C$) se expresa como:\n",
        "$$ \\bar{X}^C = \\bar{X}^A - \\bar{X}^B$$\n",
        "donde $ \\bar{X}^A$ y $\\bar{X}^B$ son directamente las medias muestrales para los salarios de *hombres* y *no hombres* (es decir, otros géneros), respectivamente.\n",
        " </font>"
      ]
    },
    {
      "cell_type": "code",
      "metadata": {
        "id": "0fA1RQ0upe6N",
        "colab": {
          "base_uri": "https://localhost:8080/"
        },
        "outputId": "4b20058a-a56e-4b2b-86c8-0d93b292fd7f"
      },
      "source": [
        "import numpy as np\n",
        "# a) Estimación puntual\n",
        "\n",
        "media_C = groupA.mean() - groupB.mean()\n",
        "print('Estadístico Media Muestral: ', round(media_C,2))"
      ],
      "execution_count": null,
      "outputs": [
        {
          "output_type": "stream",
          "text": [
            "Estadístico Media Muestral:  18495.03\n"
          ],
          "name": "stdout"
        }
      ]
    },
    {
      "cell_type": "markdown",
      "metadata": {
        "id": "ZWy_iDScfP8_"
      },
      "source": [
        "<font color='skyblue'> \n",
        "b) Estimación por intervalos\n",
        "</font>\n",
        "\n",
        "<font color='skyblue'>\n",
        "b.1) Manual\n",
        "</font>\n",
        "\n",
        "<font color='skyblue'> \n",
        "Se escoge como estimador del intervalo de confianza $1-\\alpha$ a:\n",
        "$$ \\left[ \\bar{X}^C - t_{\\alpha/2, n-1} \\frac{S^C}{\\sqrt{n}} ,   \\bar{X}^C + t_{\\alpha/2, n-1} \\frac{S^C}{\\sqrt{n}}  \\right] $$\n",
        "Donde t (de Student) se obtiene de Tabla o [calculadora online](https://www.uv.es/ceaces/scrips/tablas/tastud.htm), \n",
        "\n",
        "$$S^C = \\sqrt{\\frac{\\sum_i^{n} ( X_i^C - \\bar{X}^C)}{n-1}}  $$ (estimador de $ \\sigma $).\n",
        "</font>\n",
        "\n",
        "<font color='skyblue'> \n",
        "b.2) SciPy\n",
        "\n",
        "La diferencia entre ambas maneras de calcularlas es despreciable.\n",
        "Estos intervalos de confianza definen la zona por fuera de la cual se está en zona de rechazo de la hipótesis propuesta.\n",
        "</font>"
      ]
    },
    {
      "cell_type": "code",
      "metadata": {
        "colab": {
          "base_uri": "https://localhost:8080/"
        },
        "id": "ZHTLilcAQDSc",
        "outputId": "84e3602c-d5d9-4c34-af4c-890eacc64f1f"
      },
      "source": [
        "import statistics\n",
        "import math\n",
        "# b) Estimación por intervalos\n",
        "# b.1) Manual\n",
        "alpha = 0.05\n",
        "t = 1.645 # https://www.uv.es/ceaces/scrips/tablas/tastud.htm con P=0.1 (p/2 + p/2) y n=4815-1\n",
        "S_C = statistics.stdev(groupA-groupB_expand) # Estimador de sigma (raiz cuadrada de la varianza)\n",
        "pivote = t*S_C/math.sqrt(n)\n",
        "\n",
        "limit_inf = media_C - pivote\n",
        "limit_sup = media_C + pivote\n",
        "print('Intervalo de confianza con de nivel (1-{}): [{},{}]' .format(alpha, round(limit_inf,2), round(limit_sup,2)))\n",
        "\n",
        "# b.2) SciPy\n",
        "import scipy.stats as st\n",
        "\n",
        "limites = st.t.interval(1-2*alpha, n-1, loc=media_C, scale=st.sem(groupA-groupB_expand)) # st.sem: standard error of the mean\n",
        "print(limites)"
      ],
      "execution_count": null,
      "outputs": [
        {
          "output_type": "stream",
          "text": [
            "Intervalo de confianza con de nivel (1-0.05): [16805.29,20184.76]\n",
            "(16805.117372673645, 20184.941075782204)\n"
          ],
          "name": "stdout"
        }
      ]
    },
    {
      "cell_type": "markdown",
      "metadata": {
        "id": "OqKlCdLdhJGK"
      },
      "source": [
        "<font color='skyblue'> Estos intervalos de confianza definen la zona por fuera de la cual se está en zona de rechazo de la hipótesis propuesta. </font>"
      ]
    },
    {
      "cell_type": "markdown",
      "metadata": {
        "id": "IFi2T7Y6nM92"
      },
      "source": [
        "## Ejercicio 2: Test de hipótesis\n"
      ]
    },
    {
      "cell_type": "markdown",
      "metadata": {
        "id": "Rzxe8UYU6EfJ"
      },
      "source": [
        "\n",
        "### 2.1 Formalización\n",
        "\n",
        "Describir formalmente los distintos compenentes de un test de hipótesis para comprobar si la distribución de los salarios es distinta entre los grupos A y B.\n",
        "\n",
        "**Hipótesis Nula**\n",
        "\n",
        "$ H_0: \\mu_X = \\mu_Y → \\mu_X - \\mu_Y = 0$\n",
        "\n",
        "“La distribución de la media de los salarios es igual para los grupos A y B”\n",
        "\n",
        "**Hipótesis Alternativa**\n",
        "\n",
        "$ H_1: \\mu_X \\neq \\mu_Y $\n",
        "\n",
        "“La distribución de la media de los salarios es distinta para los grupos A y B”\n",
        "\n",
        "\n",
        "**Estadístico (Pivote)**\n",
        "  * Identificar el estadístico\n",
        "  * Escribir qué distribución tiene bajo $H_0$\n",
        "\n",
        "Si se emplea el método de Welch, el estadístico queda:\n",
        "$$  T_W =\\frac{\\bar{X} - \\bar{Y}}{ \\sqrt{\\frac{S_ X^2}{n_1} + \\frac{S_ Y^2}{n_2}}} \\sim t_{k}$$\n",
        "donde\n",
        "$$ k = \\frac{(S_X^2/n_1 +S_Y^2/n_2)^2} {(S_X^2/n_1)^2/(n_1-1) + (S_Y^2/n_2)^2/(n_2-1) } $$\n",
        "\n",
        "\n",
        "\n",
        "Bajo $H_0$, el estadístico tiene una distribución t de Student de $k$ grados de libertad.\n"
      ]
    },
    {
      "cell_type": "markdown",
      "metadata": {
        "id": "dlXiOLe4fqsO"
      },
      "source": [
        "<font color='skyblue'>\n",
        "\n",
        "2.1) Formalización\n",
        "</font>\n",
        "\n",
        "<font color='skyblue'>\n",
        "**Hipótesis nula**:  “La distribución de la media de los salarios es igual para los grupos A y B”\n",
        "$ H_0: \\mu_X = \\mu_Y \\rightarrow \\mu_X - \\mu_Y = 0 $\n",
        "</font>\n",
        "\n",
        "<font color='skyblue'>\n",
        "\n",
        "**Hipótesis alternativa**: “La distribución de la media de los salarios es distinta para los grupos A y B”\n",
        "$ H_1: \\mu_X \\neq \\mu_Y $\n",
        "</font>\n",
        "\n",
        "<font color='skyblue'>\n",
        "Como se plantea un test para probar una igualdad de medias, el estadístico a emplear será: \n",
        "\n",
        "<font color='skyblue'>\n",
        "$$ T = \\frac{(\\bar{X} - \\bar{Y}) - (\\mu_X - \\mu_Y)}{S \\sqrt{(n_1+n_2)/(n_1 n_2)}} \\sim t_{n_1+n_2-2} $$ con $$ S = \\sqrt{ \\frac{\\sum_i^{n_1} ( X_i - \\bar{X})^2 +  \\sum_i^{n_2} ( Y_i - \\bar{Y})^2 }{n_1 + n_2 - 2} } $$ porque las muestras no tienen el mismo tamaño ni varianzas. Otra forma de escribir el estadístico es empleando una desviación estándar agrupada (pool), en donde:\n",
        "\n",
        "<font color='skyblue'>\n",
        "$$ T_P = \\frac{(\\bar{X} - \\bar{Y}) - (\\mu_X - \\mu_Y)}{S_P \\sqrt{\\frac{1}{n_1} + \\frac{1}{n_2}}} \\sim t_{n_1+n_2-2} $$\n",
        "con\n",
        "$$ S_P^2 = \\frac{(n_1-1)S_X^2 + (n_2-1)S_ Y^2}{n_1+n_2-2} $$\n",
        "\n",
        "<font color='skyblue'>\n",
        "Si se emplea el método de Welch, el estadístico queda:\n",
        "\n",
        "\n",
        "<font color='skyblue'>\n",
        "$$ T_W =\\frac{\\bar{X} - \\bar{Y}}{ \\sqrt{\\frac{S_ X^2}{n_1} + \\frac{S_ Y^2}{n_2}}} \\sim t_{k}  $$\n",
        "donde\n",
        "$$ k = \\frac{(S_X^2/n_1 +S_Y^2/n_2)^2} {(S_X^2/n_1)^2/(n_1-1) + (S_Y^2/n_2)^2/(n_2-1) } $$\n",
        "\n",
        "<font color='skyblue'>\n",
        "Bajo $H_0$, el estadístico tiene una distribución t de Student de k grados de libertad. Si $ n_1 + n_2 $ es suficientemente grande, el estadístico se aproxima a una distribución normal centrada en 0:\n",
        "$ T  \\sim N(0, \\sigma^2) $, \n",
        "pero como no conocemos $ \\sigma $, nos quedamos con el método de Welch."
      ]
    },
    {
      "cell_type": "markdown",
      "metadata": {
        "id": "3Ip_5YdenC8u"
      },
      "source": [
        "### 2.2 P-valor\n",
        "\n",
        "1. Calcule el p-valor y decida si rechazar o no la hipótesis nula.\n",
        "2. Interprete el resultado.\n",
        "3. Los dos grupos de nuestra muestra tienen tamaños muy distintos. ¿Esto afecta al tests?\n",
        "\n",
        "Links útiles:\n",
        "* [Test de hipótesis usando scipy](https://docs.scipy.org/doc/scipy/reference/generated/scipy.stats.ttest_ind.html)\n",
        "* [Test de Welch](http://daniellakens.blogspot.com/2015/01/always-use-welchs-t-test-instead-of.html)"
      ]
    },
    {
      "cell_type": "markdown",
      "metadata": {
        "id": "tTIq9YEbiDlr"
      },
      "source": [
        "<font color='skyblue'>\n",
        "\n",
        "2.2) P-valor\n",
        "</font>\n",
        "\n",
        "1. Calcule el p-valor y decida si rechazar o no la hipótesis nula.\n",
        "\n",
        "<font color='skyblue'>\n",
        "\n",
        "a) Manual\n",
        "</font>\n",
        "\n",
        "<font color='skyblue'>\n",
        "Se calcula con:\n",
        "</font>\n",
        "\n",
        "<font color='skyblue'>\n",
        "$$ p-valor = Pr(|T_W| > T_W^{c})$$\n",
        "\n",
        "<font color='skyblue'>\n",
        "donde el estadístico observado es $ T_W^c \\sim t_c $ (calculado con los datos de las muestras) y $ T_W \\sim t_{\\alpha/2,k}$ (sacado de Tabla o calculadora online. Para calcular la probabilidad anterior es conveniente dividirla en dos\n",
        "\n",
        "<font color='skyblue'>\n",
        "$$ p-valor = Pr(T_W > T_W^{c}) + Pr(T_W <-T_W^{c})  $$\n",
        "\n",
        "<font color='skyblue'>\n",
        "Por la simetría de la distribución t de Student, ambos términos son iguales, por lo que\n",
        "\n",
        "<font color='skyblue'>\n",
        "$$ p-valor = 2 Pr(T_W > T_W^{c}) =2(1- Pr(T_W <-T_W^{c})).  $$\n",
        "\n",
        "<font color='skyblue'>\n",
        "\n",
        "b) SciPy\n",
        "</font>\n",
        "\n",
        "<font color='skyblue'>\n",
        "Se emplea el test de Student directamente con “scipy.stats.ttest_ind” (documentación).\n",
        "\n",
        "<font color='skyblue'>\n",
        "\n",
        "Conclusión: Como $p - valor \\approx 0 < \\alpha = 0.05 $, se decide rechazar la hipótesis nula.\n",
        "</font>"
      ]
    },
    {
      "cell_type": "code",
      "metadata": {
        "id": "lpcC6b6bfxeB",
        "colab": {
          "base_uri": "https://localhost:8080/"
        },
        "outputId": "7fa40f7b-8e91-4454-f1e0-d234b8d4d151"
      },
      "source": [
        "# a) Manual\n",
        "media_X = groupA.mean()\n",
        "media_Y = groupB.mean()\n",
        "S_X = statistics.stdev(groupA)\n",
        "S_Y = statistics.stdev(groupB)\n",
        "n_1 = groupA.shape[0]\n",
        "n_2 = groupB.shape[0]\n",
        "k = round(((S_X**2/n_1 + S_Y**2/n_2)**2)/((S_X**2/n_1)**2/(n_1-1) + (S_Y**2/n_2)**2/(n_2-1)),0)\n",
        "\n",
        "t_c = (media_X - media_Y)/(math.sqrt(S_X**2/n_1 + S_Y**2/n_2))\n",
        "\n",
        "prob_t_c = st.t.cdf(t_c, k) # uso Scipy: Pr(t < t_c) (Función de Distribución Acumuluada)\n",
        "p_valor = 2*(1-prob_t_c)\n",
        "\n",
        "print('Manual')\n",
        "print('estadistico (t)= ', t_c)\n",
        "print('p-valor= ', p_valor)\n",
        "\n",
        "# b) SciPy\n",
        "import scipy.stats as st\n",
        "#!pip install scipy --upgrade # Se debe ejecutar una sola vez. Luego de actualizado, reiniciar el entorno con \"Restart runtime\" y comentar esta línea antes de ejecutar de nuevo.\n",
        "#estadistico, p_valor = st.ttest_ind(groupA, groupB, equal_var=False) # Versión de scipy inferior a 1.6.0\n",
        "estadistico, p_valor = st.ttest_ind(groupA, groupB, equal_var=False)\n",
        "\n",
        "print('SciPy')\n",
        "print('estadistico (t)= ', estadistico)\n",
        "print('p-valor= ', p_valor)"
      ],
      "execution_count": null,
      "outputs": [
        {
          "output_type": "stream",
          "text": [
            "Manual\n",
            "estadistico (t)=  10.116836954065112\n",
            "p-valor=  0.0\n",
            "SciPy\n",
            "estadistico (t)=  10.116836954065107\n",
            "p-valor=  2.0804763824766308e-23\n"
          ],
          "name": "stdout"
        }
      ]
    },
    {
      "cell_type": "markdown",
      "metadata": {
        "id": "Amq0l5JJuAp0"
      },
      "source": [
        "<font color='skyblue'>\n",
        "\n",
        "Como $p - valor \\approx 0 < \\alpha = 0.05$ Se decide rechazar la hipótesis nula.\n",
        "</font>"
      ]
    },
    {
      "cell_type": "markdown",
      "metadata": {
        "id": "Uev79ao90OXs"
      },
      "source": [
        "2. Interprete el resultado.\n",
        "\n",
        "<font color='skyblue'>\n",
        "\n",
        "El p-valor hace las veces de un nivel de significancia crítico, ya que es el mínimo valor de significancia tal que se rechaza la hipótesis nula. El p-valor asociado a un resultado es la probabilidad de obtener un valor como el observado (o más extremo) si la hipótesis nula es cierta. \n",
        "Es por ello que al ser un valor tan pequeño, prácticamente nulo, me está indicando que la probabilidad de obtener valores de medias iguales entre salarios de hombres y no hombres es prácticamente nula.\n",
        "</font>\n"
      ]
    },
    {
      "cell_type": "markdown",
      "metadata": {
        "id": "XIjtpXt40EZr"
      },
      "source": [
        "3. Los dos grupos de nuestra muestra tienen tamaños muy distintos. ¿Esto afecta al tests?\n",
        "\n",
        "<font color='skyblue'>\n",
        "\n",
        "Esto está relacionado con la potencia estadística de la prueba realizada. El tamaño de la muestra determina la cantidad de error de muestreo inherente a un resultado de la prueba. En igualdad de condiciones, los efectos son más difíciles de detectar en muestras más pequeñas. El aumento de tamaño de la muestra es a menudo la manera más fácil de aumentar la potencia estadística de una prueba.\n",
        "Esta pregunta se puede responder haciendo un análisis de potencia del test (ver siguiente).\n",
        "</font>\n"
      ]
    },
    {
      "cell_type": "markdown",
      "metadata": {
        "id": "8VxiQr5YrQYR"
      },
      "source": [
        "### [Opcional] 2.3 Potencia del test\n",
        "\n",
        "Nuestra muestra, ¿era lo suficientemente grande para detectar si existe o no una diferencia entre los grupos?\n",
        "\n",
        "1. Utilice la función `tt_ind_solve_power` para calcular el tamaño necesario de la muestra para un poder estadístico de 0.8, 0.9 y 0.95, asumiendo una significancia estadística de 0.05.\n",
        "2. ¿Cómo intepretan el poder estadístico de un test? Dado su conocimiento de dominio sobre los datos, ¿les parece que esta muestra es lo suficientemente grande para ser representativo de la tendencia general? ¿y para utilizarlo en un juicio penal contra una empresa XX por una causa de discriminación?\n",
        "\n",
        "[Documentación](https://www.statsmodels.org/stable/generated/statsmodels.stats.power.tt_ind_solve_power.html)\n",
        "\n",
        "NOTA: este análisis debería hacerse ANTES de recolectar los datos."
      ]
    },
    {
      "cell_type": "markdown",
      "metadata": {
        "id": "wQ0_2eIck5zC"
      },
      "source": [
        "<font color='skyblue'>\n",
        "\n",
        "Se hace con la herramienta “statsmodels.stats.power.tt_ind_solve_power” de Python ([documentación](https://www.statsmodels.org/stable/generated/statsmodels.stats.power.tt_ind_solve_power.html)).\n",
        "</font>\n"
      ]
    },
    {
      "cell_type": "code",
      "metadata": {
        "id": "_IiqGfo4t6Db",
        "colab": {
          "base_uri": "https://localhost:8080/"
        },
        "outputId": "ddad564d-d517-47fa-e51e-c3e0ec8b24f5"
      },
      "source": [
        "from statsmodels.stats.power import tt_ind_solve_power"
      ],
      "execution_count": null,
      "outputs": [
        {
          "output_type": "stream",
          "text": [
            "/usr/local/lib/python3.7/dist-packages/statsmodels/tools/_testing.py:19: FutureWarning: pandas.util.testing is deprecated. Use the functions in the public API at pandas.testing instead.\n",
            "  import pandas.util.testing as tm\n"
          ],
          "name": "stderr"
        }
      ]
    },
    {
      "cell_type": "code",
      "metadata": {
        "id": "LUQ7MA2Apj9x",
        "colab": {
          "base_uri": "https://localhost:8080/"
        },
        "outputId": "6e19a912-73ac-4978-ec0f-a1a4bd409bae"
      },
      "source": [
        "effect_size = (groupA.mean() - groupB.mean()) / groupB.std()\n",
        "# nobs1=None  - What we want to know\n",
        "alpha = 0.05\n",
        "ratio = len(groupB) / len(groupA)\n",
        "\n",
        "powers = [.8, .9, .95]\n",
        "tamano = []\n",
        "\n",
        "for power in powers:\n",
        "  n = tt_ind_solve_power(effect_size=effect_size, alpha=alpha, power=power, ratio=ratio)\n",
        "  tamano.append(round(n))\n",
        "\n",
        "print(tamano)"
      ],
      "execution_count": null,
      "outputs": [
        {
          "output_type": "stream",
          "text": [
            "[310, 415, 513]\n"
          ],
          "name": "stdout"
        }
      ]
    },
    {
      "cell_type": "markdown",
      "metadata": {
        "id": "Q710mSGp3Iqz"
      },
      "source": [
        "<font color='skyblue'>\n",
        "\n",
        "Los tamaños de las muestras para obtener una potencia de 0.8, 0.9 y 0.95 son de 310, 415, y 513 datos, respectivamente. Por lo que se puede decir que la cantidad de datos es suficiente para el análisis realizado (ya que n_min = 891).\n",
        "</font>"
      ]
    },
    {
      "cell_type": "markdown",
      "metadata": {
        "id": "useKMdPyMod5"
      },
      "source": [
        "## Ejercicio 3: Comunicación y visualización\n",
        "\n",
        "**Consigna:** Seleccionen un resultado que les parezca relevante a partir de alguno de los ejercicios del entregable. Diseñe e implemente una comunicación en base a este mensaje, en un archivo PDF.\n",
        "\n",
        "Elija las palabras y visualización más adecuada para que la comunicación sea entendible, efectiva y se dapte a UNA de las siguientes situaciones:\n",
        "\n",
        "1. Una sección en un artículo de difusión a presentar como parte de una organización sin fines de lucro.\n",
        "No más de 1 página A4 (o dos si los gráficos son muy grandes).\n",
        "  1. Ejemplo: Alguna de las secciones [Los ecosistemas de emprendimiento de América Latina y el Caribe frente al COVID-19: Impactos, necesidades y recomendaciones](https://publications.iadb.org/es/los-ecosistemas-de-emprendimiento-de-america-latina-y-el-caribe-frente-al-covid-19-impactos-necesidades-y-recomendaciones), por ejemplo la sección *2.2. Reacciones de los emprendedores*.\n",
        "  2. Ejemplo: Alguna de las secciones de [The state of gender pay gap in 2021](https://www.payscale.com/data/gender-pay-gap?tk=carousel-ps-rc-job)\n",
        "  3. Puntos clave: \n",
        "    1. Simpleza de los gráficos.\n",
        "    2. Comunicación en lenguaje simple a personas que no son necesariamente expertos de dominio.\n",
        "    2. Selección de UNA oración sobre la que se hace énfasis.\n",
        "    3. No es necesario que mencionen objetivos ni descripciones del conjunto de datos, se supone que eso ya estaría explicado en otras secciones del informe.\n",
        "\n",
        "2. Una publicación científica o reporte técnico interno. No más de una página A4:\n",
        "  2. Ejemplo: La sección de resultados de [IZA DP No. 12914: The Impact of a Minimum Wage Change on the Distribution of Wages and Household Income](https://www.iza.org/publications/dp/12914/the-impact-of-a-minimum-wage-change-on-the-distribution-of-wages-and-household-income).\n",
        "  2. Ejemplo: Alguna de las secciones de [Temporary reduction in daily global CO2 emissions during the COVID-19 forced confinement](https://www.nature.com/articles/s41558-020-0797-x)\n",
        "  3. Puntos clave:\n",
        "    3. Nivel de detalle técnico requerido. Es necesario justificar la validez del análisis.\n",
        "    4. La idea presentada puede ser más compleja. Pueden asumir que la audiencia tiene conocimiento técnico y va a analizar las visualizaciones en detalle. \n",
        "    5. Pueden presentar más en detalle las limitaciones del análisis (significancia estadística, etc.)\n",
        "    2. No es necesario que mencionen objetivos ni descripciones del conjunto de datos, se supone que eso ya estaría explicado en otras secciones del informe.\n",
        "\n",
        "3. Un tweet (o post de LinkedIn) para la cuenta de su empresa consultora que hace análisis de datos. El objetivo es promocionar un análisis de datos abiertos que van a incluir en su portfolio:\n",
        "  1. Ejemplo: [Comparación vacunas covid](https://twitter.com/infobeautiful/status/1381577746527236098?s=20)\n",
        "  2. Ejemplo: [Tweet del BID](https://twitter.com/el_BID/status/1388508583944507396?s=20). Lo valioso de este tweet es que usaron un único número para transmitir un mensaje. Puede ser algo así, o con un gráfico muy simple.\n",
        "  3. Ejemplo: [Cambio climático](https://twitter.com/UNFCCC/status/1387732156190011394?s=20) Es un muy buen ejemplo, excepto que el gráfico no se lee nada y hay que entrar a la publicación original.\n",
        "  3. Ejemplo: [¿Cuánto están los programadores en las empresas?](https://www.linkedin.com/posts/denis-rothman-0b034043_tech-career-work-activity-6793861923269054464-gS6y) (No verificamos la veracidad o seriedad de la fuente).\n",
        "  4. Puntos clave:\n",
        "    1. Su audiencia no va a mirar la visualización por más de unos segundos, y no tiene conocimiento técnico.\n",
        "  3. Tienen que incluir además una *breve* descripción de cómo obtuvieron los datos que están presentando, que no entraría en el tweet.\n"
      ]
    },
    {
      "cell_type": "code",
      "metadata": {
        "id": "twwYHUztt45L",
        "colab": {
          "base_uri": "https://localhost:8080/",
          "height": 321
        },
        "outputId": "f630ac4f-5e2c-4766-d30e-c171de90d2c1"
      },
      "source": [
        "\n",
        "\n",
        "ax = seaborn.histplot(x=groupA,color=\"blue\", label=\"Hombres\")\n",
        "ax = seaborn.histplot(x=groupB,color=\"red\", label=\"Mujeres\")\n",
        "\n",
        "ax.axvline(groupA.mean(), color='skyblue',\n",
        "            linestyle='--', label='$ Prom. hombres')\n",
        "ax.axvline(groupB.mean(), color='pink',\n",
        "            linestyle='--', label='$ Prom. mujeres/otros')\n",
        "plt.xlabel('Salario mensual')\n",
        "plt.ylabel('Frecuencia')\n",
        "plt.title('Salarios en IT')\n",
        "plt.legend() \n",
        "ax.get_xaxis().set_major_formatter(\n",
        "    matplotlib.ticker.FuncFormatter(lambda x, p: format(int(x), ',')))\n",
        "xlabels = ['{:,.0f}'.format(x) + 'k' for x in ax.get_xticks()/1000]\n",
        "ax.set_xticklabels(xlabels)\n",
        "plt.legend(title = '', bbox_to_anchor = (1, 1)) # loc = 'upper right')\n",
        "plt.setp(ax.get_legend().get_texts(), fontsize='5')\n",
        "plt.setp(ax.get_legend().get_title(), fontsize='5')\n",
        "\n",
        "plt.show()\n"
      ],
      "execution_count": null,
      "outputs": [
        {
          "output_type": "display_data",
          "data": {
            "image/png": "[encoded data removed]",
            "text/plain": [
              "<Figure size 432x288 with 1 Axes>"
            ]
          },
          "metadata": {
            "tags": [],
            "needs_background": "light"
          }
        }
      ]
    }
  ]
}